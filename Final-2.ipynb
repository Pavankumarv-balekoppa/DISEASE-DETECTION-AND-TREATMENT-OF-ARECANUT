{
 "cells": [
  {
   "cell_type": "code",
   "execution_count": 1,
   "metadata": {},
   "outputs": [],
   "source": [
    "import numpy as np\n",
    "import pickle\n",
    "import cv2\n",
    "from os import listdir\n",
    "from sklearn.preprocessing import LabelBinarizer\n",
    "from keras.models import Sequential\n",
    "from tensorflow.keras.layers import BatchNormalization\n",
    "from keras.layers.convolutional import Conv2D\n",
    "from keras.layers.convolutional import MaxPooling2D\n",
    "from keras.layers.core import Activation, Flatten, Dropout, Dense\n",
    "from keras import backend as K\n",
    "from keras.preprocessing.image import ImageDataGenerator\n",
    "from keras.optimizers import Adam\n",
    "from keras.preprocessing import image\n",
    "from tensorflow.keras.utils import img_to_array\n",
    "from sklearn.preprocessing import MultiLabelBinarizer\n",
    "from sklearn.model_selection import train_test_split\n",
    "import matplotlib.pyplot as plt\n",
    "import os\n",
    "import pathlib"
   ]
  },
  {
   "cell_type": "code",
   "execution_count": 2,
   "metadata": {},
   "outputs": [],
   "source": [
    "EPOCHS = 40\n",
    "INIT_LR = 1e-3\n",
    "BS = 32\n",
    "default_image_size = tuple((256, 256))\n",
    "image_size = 0\n",
    "path = pathlib.Path('C:\\Dataset')\n",
    "width=256\n",
    "height=256\n",
    "depth=3"
   ]
  },
  {
   "cell_type": "code",
   "execution_count": 3,
   "metadata": {},
   "outputs": [],
   "source": [
    "def convert_image_to_array(image_dir):\n",
    "    try:\n",
    "        image = cv2.imread(image_dir)\n",
    "        if image is not None :\n",
    "            image = cv2.resize(image, default_image_size)   \n",
    "            return img_to_array(image)\n",
    "        else :\n",
    "            return np.array([])\n",
    "    except Exception as e:\n",
    "        print(f\"Error : {e}\")\n",
    "        return None"
   ]
  },
  {
   "cell_type": "code",
   "execution_count": 50,
   "metadata": {
    "scrolled": true
   },
   "outputs": [
    {
     "name": "stdout",
     "output_type": "stream",
     "text": [
      "[INFO] Loading images ...\n",
      "[INFO] Processing Healthy_Leaf ...\n",
      "[INFO] Processing Healthy_Nut ...\n",
      "[INFO] Processing Healthy_Trunk ...\n",
      "[INFO] Processing Mahali_Koleroga ...\n",
      "[INFO] Processing Stem_bleeding ...\n",
      "[INFO] Processing yellow_leaf spot_disease ...\n",
      "[INFO] Image loading completed\n"
     ]
    }
   ],
   "source": [
    "image_list, label_list = [], []\n",
    "l=[]\n",
    "try:\n",
    "    print(\"[INFO] Loading images ...\")\n",
    "    root_dir = listdir(path)\n",
    "    for directory in root_dir :\n",
    "        # remove .DS_Store from list\n",
    "        if directory == \".DS_Store\" :\n",
    "            root_dir.remove(directory)\n",
    "\n",
    "    for plant_folder in root_dir :\n",
    "        plant_disease_folder_list = listdir(f\"{path}/{plant_folder}\")\n",
    "        \n",
    "        #for disease_folder in plant_disease_folder_list :\n",
    "            # remove .DS_Store from list\n",
    "         #   if disease_folder == \".DS_Store\" :\n",
    "          #      plant_disease_folder_list.remove(disease_folder)\n",
    "\n",
    "        for plant_disease_folder in plant_disease_folder_list:\n",
    "            print(f\"[INFO] Processing {plant_disease_folder} ...\")\n",
    "            plant_disease_image_list = listdir(f\"{path}/{plant_folder}/{plant_disease_folder}/\")\n",
    "                \n",
    "            for single_plant_disease_image in plant_disease_image_list :\n",
    "                if single_plant_disease_image == \".DS_Store\" :\n",
    "                    plant_disease_image_list.remove(single_plant_disease_image)\n",
    "\n",
    "            for image in plant_disease_image_list:\n",
    "                l.append(image)\n",
    "                image_directory = f\"{path}/{plant_folder}/{plant_disease_folder}/{image}\"\n",
    "                if image_directory.endswith(\".jpg\") == True or image_directory.endswith(\".JPG\") == True:\n",
    "                    image_list.append(convert_image_to_array(image_directory))\n",
    "                    label_list.append(plant_disease_folder)\n",
    "    print(\"[INFO] Image loading completed\")  \n",
    "except Exception as e:\n",
    "    print(f\"Error : {e}\")"
   ]
  },
  {
   "cell_type": "code",
   "execution_count": 51,
   "metadata": {},
   "outputs": [],
   "source": [
    "image_size = len(image_list)"
   ]
  },
  {
   "cell_type": "code",
   "execution_count": 52,
   "metadata": {},
   "outputs": [],
   "source": [
    "label_binarizer = LabelBinarizer()\n",
    "image_labels = label_binarizer.fit_transform(label_list)\n",
    "#pickle.dump(label_binarizer,open('label_transform.pkl', 'wb'))\n",
    "n_classes = len(label_binarizer.classes_)"
   ]
  },
  {
   "cell_type": "code",
   "execution_count": 53,
   "metadata": {},
   "outputs": [
    {
     "name": "stdout",
     "output_type": "stream",
     "text": [
      "['Healthy_Leaf' 'Healthy_Nut' 'Healthy_Trunk' 'Mahali_Koleroga'\n",
      " 'Stem_bleeding' 'yellow_leaf spot_disease']\n"
     ]
    }
   ],
   "source": [
    "print(label_binarizer.classes_)"
   ]
  },
  {
   "cell_type": "code",
   "execution_count": 54,
   "metadata": {},
   "outputs": [
    {
     "name": "stdout",
     "output_type": "stream",
     "text": [
      "[[1 0 0 0 0 0]\n",
      " [1 0 0 0 0 0]\n",
      " [1 0 0 0 0 0]\n",
      " [1 0 0 0 0 0]\n",
      " [1 0 0 0 0 0]\n",
      " [1 0 0 0 0 0]\n",
      " [1 0 0 0 0 0]\n",
      " [1 0 0 0 0 0]\n",
      " [1 0 0 0 0 0]\n",
      " [1 0 0 0 0 0]\n",
      " [1 0 0 0 0 0]\n",
      " [1 0 0 0 0 0]\n",
      " [1 0 0 0 0 0]\n",
      " [1 0 0 0 0 0]\n",
      " [0 1 0 0 0 0]\n",
      " [0 1 0 0 0 0]\n",
      " [0 1 0 0 0 0]\n",
      " [0 1 0 0 0 0]\n",
      " [0 1 0 0 0 0]\n",
      " [0 1 0 0 0 0]\n",
      " [0 1 0 0 0 0]\n",
      " [0 1 0 0 0 0]\n",
      " [0 1 0 0 0 0]\n",
      " [0 1 0 0 0 0]\n",
      " [0 1 0 0 0 0]\n",
      " [0 1 0 0 0 0]\n",
      " [0 1 0 0 0 0]\n",
      " [0 1 0 0 0 0]\n",
      " [0 1 0 0 0 0]\n",
      " [0 1 0 0 0 0]\n",
      " [0 1 0 0 0 0]\n",
      " [0 1 0 0 0 0]\n",
      " [0 1 0 0 0 0]\n",
      " [0 1 0 0 0 0]\n",
      " [0 1 0 0 0 0]\n",
      " [0 1 0 0 0 0]\n",
      " [0 1 0 0 0 0]\n",
      " [0 1 0 0 0 0]\n",
      " [0 1 0 0 0 0]\n",
      " [0 1 0 0 0 0]\n",
      " [0 1 0 0 0 0]\n",
      " [0 1 0 0 0 0]\n",
      " [0 1 0 0 0 0]\n",
      " [0 1 0 0 0 0]\n",
      " [0 1 0 0 0 0]\n",
      " [0 1 0 0 0 0]\n",
      " [0 1 0 0 0 0]\n",
      " [0 1 0 0 0 0]\n",
      " [0 1 0 0 0 0]\n",
      " [0 1 0 0 0 0]\n",
      " [0 1 0 0 0 0]\n",
      " [0 1 0 0 0 0]\n",
      " [0 1 0 0 0 0]\n",
      " [0 1 0 0 0 0]\n",
      " [0 1 0 0 0 0]\n",
      " [0 1 0 0 0 0]\n",
      " [0 1 0 0 0 0]\n",
      " [0 1 0 0 0 0]\n",
      " [0 1 0 0 0 0]\n",
      " [0 0 1 0 0 0]\n",
      " [0 0 1 0 0 0]\n",
      " [0 0 1 0 0 0]\n",
      " [0 0 1 0 0 0]\n",
      " [0 0 1 0 0 0]\n",
      " [0 0 1 0 0 0]\n",
      " [0 0 1 0 0 0]\n",
      " [0 0 1 0 0 0]\n",
      " [0 0 1 0 0 0]\n",
      " [0 0 1 0 0 0]\n",
      " [0 0 1 0 0 0]\n",
      " [0 0 1 0 0 0]\n",
      " [0 0 1 0 0 0]\n",
      " [0 0 1 0 0 0]\n",
      " [0 0 1 0 0 0]\n",
      " [0 0 1 0 0 0]\n",
      " [0 0 1 0 0 0]\n",
      " [0 0 1 0 0 0]\n",
      " [0 0 1 0 0 0]\n",
      " [0 0 1 0 0 0]\n",
      " [0 0 1 0 0 0]\n",
      " [0 0 1 0 0 0]\n",
      " [0 0 1 0 0 0]\n",
      " [0 0 1 0 0 0]\n",
      " [0 0 1 0 0 0]\n",
      " [0 0 1 0 0 0]\n",
      " [0 0 1 0 0 0]\n",
      " [0 0 1 0 0 0]\n",
      " [0 0 1 0 0 0]\n",
      " [0 0 1 0 0 0]\n",
      " [0 0 1 0 0 0]\n",
      " [0 0 0 1 0 0]\n",
      " [0 0 0 1 0 0]\n",
      " [0 0 0 1 0 0]\n",
      " [0 0 0 0 1 0]\n",
      " [0 0 0 0 1 0]\n",
      " [0 0 0 0 1 0]\n",
      " [0 0 0 0 1 0]\n",
      " [0 0 0 0 1 0]\n",
      " [0 0 0 0 1 0]\n",
      " [0 0 0 0 1 0]\n",
      " [0 0 0 0 1 0]\n",
      " [0 0 0 0 1 0]\n",
      " [0 0 0 0 1 0]\n",
      " [0 0 0 0 1 0]\n",
      " [0 0 0 0 1 0]\n",
      " [0 0 0 0 1 0]\n",
      " [0 0 0 0 1 0]\n",
      " [0 0 0 0 1 0]\n",
      " [0 0 0 0 1 0]\n",
      " [0 0 0 0 1 0]\n",
      " [0 0 0 0 1 0]\n",
      " [0 0 0 0 1 0]\n",
      " [0 0 0 0 1 0]\n",
      " [0 0 0 0 1 0]\n",
      " [0 0 0 0 1 0]\n",
      " [0 0 0 0 1 0]\n",
      " [0 0 0 0 1 0]\n",
      " [0 0 0 0 1 0]\n",
      " [0 0 0 0 1 0]\n",
      " [0 0 0 0 1 0]\n",
      " [0 0 0 0 1 0]\n",
      " [0 0 0 0 1 0]\n",
      " [0 0 0 0 1 0]\n",
      " [0 0 0 0 1 0]\n",
      " [0 0 0 0 1 0]\n",
      " [0 0 0 0 1 0]\n",
      " [0 0 0 0 1 0]\n",
      " [0 0 0 0 1 0]\n",
      " [0 0 0 0 1 0]\n",
      " [0 0 0 0 1 0]\n",
      " [0 0 0 0 1 0]\n",
      " [0 0 0 0 0 1]\n",
      " [0 0 0 0 0 1]\n",
      " [0 0 0 0 0 1]\n",
      " [0 0 0 0 0 1]\n",
      " [0 0 0 0 0 1]\n",
      " [0 0 0 0 0 1]\n",
      " [0 0 0 0 0 1]\n",
      " [0 0 0 0 0 1]]\n"
     ]
    }
   ],
   "source": [
    "print(image_labels)"
   ]
  },
  {
   "cell_type": "code",
   "execution_count": 55,
   "metadata": {},
   "outputs": [],
   "source": [
    "np_image_list = np.array(image_list, dtype=np.float16) / 225.0"
   ]
  },
  {
   "cell_type": "code",
   "execution_count": 56,
   "metadata": {},
   "outputs": [
    {
     "name": "stdout",
     "output_type": "stream",
     "text": [
      "[INFO] Spliting data to train, test\n"
     ]
    }
   ],
   "source": [
    "print(\"[INFO] Spliting data to train, test\")\n",
    "x_train, x_test, y_train, y_test = train_test_split(np_image_list, image_labels, test_size=0.2, random_state = 42) "
   ]
  },
  {
   "cell_type": "code",
   "execution_count": 57,
   "metadata": {},
   "outputs": [],
   "source": [
    "aug = ImageDataGenerator(\n",
    "    rotation_range=25, width_shift_range=0.1,\n",
    "    height_shift_range=0.1, shear_range=0.2, \n",
    "    zoom_range=0.2,horizontal_flip=True, \n",
    "    fill_mode=\"nearest\")"
   ]
  },
  {
   "cell_type": "code",
   "execution_count": 12,
   "metadata": {},
   "outputs": [],
   "source": [
    "inputShape = (height, width, depth)\n",
    "chanDim = -1\n",
    "if K.image_data_format() == \"channels_first\":\n",
    "    inputShape = (depth, height, width)\n",
    "    chanDim = 1\n",
    "\n",
    "#Create models architecture\n",
    "model = Sequential()\n",
    "\n",
    "#Add the first layer\n",
    "model.add( Conv2D(32, (3,3), activation='relu', input_shape=inputShape))\n",
    "\n",
    "#Add a pooling layer\n",
    "model.add(MaxPooling2D(pool_size=(2,2)))\n",
    "\n",
    "#Add another convolutional layer\n",
    "model.add( Conv2D(32, (3,3), activation='relu'))\n",
    "\n",
    "#Add another pooling layer\n",
    "model.add(MaxPooling2D(pool_size=(2,2)))\n",
    "\n",
    "#Add a flatenning layer\n",
    "model.add(Flatten())\n",
    "\n",
    "#Add a layer with 1000 neurons\n",
    "model.add(Dense(1000, activation='relu'))\n",
    "\n",
    "#Add a dropout layer\n",
    "model.add(Dropout(0.5))\n",
    "\n",
    "#Add a layer with 500 neurons\n",
    "model.add(Dense(500, activation='relu'))\n",
    "\n",
    "#Add a dropout layer\n",
    "model.add(Dropout(0.5))\n",
    "\n",
    "#Add a layer with 250 neurons\n",
    "model.add(Dense(250, activation='relu'))\n",
    "\n",
    "#Add a dropout layer\n",
    "model.add(Dropout(0.5))\n",
    "\n",
    "\n",
    "#Add a layer with 125 neurons\n",
    "model.add(Dense(125, activation='relu'))\n",
    "\n",
    "#Add a layer with 10 neurons\n",
    "model.add(Dense(6, activation='softmax'))"
   ]
  },
  {
   "cell_type": "code",
   "execution_count": 13,
   "metadata": {},
   "outputs": [
    {
     "name": "stdout",
     "output_type": "stream",
     "text": [
      "Model: \"sequential\"\n",
      "_________________________________________________________________\n",
      " Layer (type)                Output Shape              Param #   \n",
      "=================================================================\n",
      " conv2d (Conv2D)             (None, 254, 254, 32)      896       \n",
      "                                                                 \n",
      " max_pooling2d (MaxPooling2D  (None, 127, 127, 32)     0         \n",
      " )                                                               \n",
      "                                                                 \n",
      " conv2d_1 (Conv2D)           (None, 125, 125, 32)      9248      \n",
      "                                                                 \n",
      " max_pooling2d_1 (MaxPooling  (None, 62, 62, 32)       0         \n",
      " 2D)                                                             \n",
      "                                                                 \n",
      " flatten (Flatten)           (None, 123008)            0         \n",
      "                                                                 \n",
      " dense (Dense)               (None, 1000)              123009000 \n",
      "                                                                 \n",
      " dropout (Dropout)           (None, 1000)              0         \n",
      "                                                                 \n",
      " dense_1 (Dense)             (None, 500)               500500    \n",
      "                                                                 \n",
      " dropout_1 (Dropout)         (None, 500)               0         \n",
      "                                                                 \n",
      " dense_2 (Dense)             (None, 250)               125250    \n",
      "                                                                 \n",
      " dropout_2 (Dropout)         (None, 250)               0         \n",
      "                                                                 \n",
      " dense_3 (Dense)             (None, 125)               31375     \n",
      "                                                                 \n",
      " dense_4 (Dense)             (None, 6)                 756       \n",
      "                                                                 \n",
      "=================================================================\n",
      "Total params: 123,677,025\n",
      "Trainable params: 123,677,025\n",
      "Non-trainable params: 0\n",
      "_________________________________________________________________\n"
     ]
    }
   ],
   "source": [
    "model.summary()"
   ]
  },
  {
   "cell_type": "code",
   "execution_count": 14,
   "metadata": {},
   "outputs": [],
   "source": [
    "model.compile(loss = 'categorical_crossentropy',\n",
    "              optimizer = 'adam', metrics = ['accuracy'])"
   ]
  },
  {
   "cell_type": "code",
   "execution_count": 38,
   "metadata": {},
   "outputs": [
    {
     "name": "stdout",
     "output_type": "stream",
     "text": [
      "Epoch 1/80\n",
      "1/1 [==============================] - 15s 15s/step - loss: 0.3564 - accuracy: 0.8864 - val_loss: 0.8622 - val_accuracy: 0.8261\n",
      "Epoch 2/80\n",
      "1/1 [==============================] - 5s 5s/step - loss: 0.2804 - accuracy: 0.8977 - val_loss: 0.8745 - val_accuracy: 0.8261\n",
      "Epoch 3/80\n",
      "1/1 [==============================] - 5s 5s/step - loss: 0.3042 - accuracy: 0.9205 - val_loss: 0.9081 - val_accuracy: 0.8261\n",
      "Epoch 4/80\n",
      "1/1 [==============================] - 5s 5s/step - loss: 0.2733 - accuracy: 0.9091 - val_loss: 0.8941 - val_accuracy: 0.8261\n",
      "Epoch 5/80\n",
      "1/1 [==============================] - 5s 5s/step - loss: 0.2407 - accuracy: 0.9091 - val_loss: 0.9439 - val_accuracy: 0.7391\n",
      "Epoch 6/80\n",
      "1/1 [==============================] - 5s 5s/step - loss: 0.2292 - accuracy: 0.9205 - val_loss: 0.9749 - val_accuracy: 0.7391\n",
      "Epoch 7/80\n",
      "1/1 [==============================] - 5s 5s/step - loss: 0.1383 - accuracy: 0.9659 - val_loss: 0.9991 - val_accuracy: 0.6522\n",
      "Epoch 8/80\n",
      "1/1 [==============================] - 5s 5s/step - loss: 0.2128 - accuracy: 0.9205 - val_loss: 1.0016 - val_accuracy: 0.6522\n",
      "Epoch 9/80\n",
      "1/1 [==============================] - 5s 5s/step - loss: 0.1555 - accuracy: 0.9432 - val_loss: 0.9798 - val_accuracy: 0.6522\n",
      "Epoch 10/80\n",
      "1/1 [==============================] - 5s 5s/step - loss: 0.1137 - accuracy: 0.9659 - val_loss: 0.9682 - val_accuracy: 0.6957\n",
      "Epoch 11/80\n",
      "1/1 [==============================] - 5s 5s/step - loss: 0.2561 - accuracy: 0.9318 - val_loss: 0.7165 - val_accuracy: 0.7391\n",
      "Epoch 12/80\n",
      "1/1 [==============================] - 5s 5s/step - loss: 0.1615 - accuracy: 0.9545 - val_loss: 0.6484 - val_accuracy: 0.7826\n",
      "Epoch 13/80\n",
      "1/1 [==============================] - 5s 5s/step - loss: 0.0824 - accuracy: 0.9659 - val_loss: 0.6699 - val_accuracy: 0.7391\n",
      "Epoch 14/80\n",
      "1/1 [==============================] - 5s 5s/step - loss: 0.0938 - accuracy: 0.9773 - val_loss: 0.7502 - val_accuracy: 0.7391\n",
      "Epoch 15/80\n",
      "1/1 [==============================] - 5s 5s/step - loss: 0.0817 - accuracy: 0.9659 - val_loss: 0.8130 - val_accuracy: 0.7391\n",
      "Epoch 16/80\n",
      "1/1 [==============================] - 5s 5s/step - loss: 0.0985 - accuracy: 0.9659 - val_loss: 0.8448 - val_accuracy: 0.7391\n",
      "Epoch 17/80\n",
      "1/1 [==============================] - 5s 5s/step - loss: 0.0616 - accuracy: 0.9886 - val_loss: 0.8458 - val_accuracy: 0.7391\n",
      "Epoch 18/80\n",
      "1/1 [==============================] - 5s 5s/step - loss: 0.0591 - accuracy: 0.9773 - val_loss: 0.8691 - val_accuracy: 0.7826\n",
      "Epoch 19/80\n",
      "1/1 [==============================] - 5s 5s/step - loss: 0.0438 - accuracy: 0.9886 - val_loss: 0.8841 - val_accuracy: 0.7826\n",
      "Epoch 20/80\n",
      "1/1 [==============================] - 5s 5s/step - loss: 0.0480 - accuracy: 0.9886 - val_loss: 0.9004 - val_accuracy: 0.8261\n",
      "Epoch 21/80\n",
      "1/1 [==============================] - 5s 5s/step - loss: 0.0503 - accuracy: 0.9886 - val_loss: 0.9408 - val_accuracy: 0.8696\n",
      "Epoch 22/80\n",
      "1/1 [==============================] - 5s 5s/step - loss: 0.0610 - accuracy: 0.9659 - val_loss: 0.9937 - val_accuracy: 0.8696\n",
      "Epoch 23/80\n",
      "1/1 [==============================] - 5s 5s/step - loss: 0.0833 - accuracy: 0.9886 - val_loss: 1.0403 - val_accuracy: 0.8696\n",
      "Epoch 24/80\n",
      "1/1 [==============================] - 5s 5s/step - loss: 0.0481 - accuracy: 0.9773 - val_loss: 1.0473 - val_accuracy: 0.8696\n",
      "Epoch 25/80\n",
      "1/1 [==============================] - 6s 6s/step - loss: 0.0184 - accuracy: 1.0000 - val_loss: 1.0684 - val_accuracy: 0.8261\n",
      "Epoch 26/80\n",
      "1/1 [==============================] - 5s 5s/step - loss: 0.0552 - accuracy: 0.9886 - val_loss: 1.1805 - val_accuracy: 0.7826\n",
      "Epoch 27/80\n",
      "1/1 [==============================] - 5s 5s/step - loss: 0.0285 - accuracy: 0.9886 - val_loss: 1.2413 - val_accuracy: 0.6957\n",
      "Epoch 28/80\n",
      "1/1 [==============================] - 5s 5s/step - loss: 0.0360 - accuracy: 0.9886 - val_loss: 1.2774 - val_accuracy: 0.6957\n",
      "Epoch 29/80\n",
      "1/1 [==============================] - 5s 5s/step - loss: 0.0530 - accuracy: 0.9773 - val_loss: 1.2990 - val_accuracy: 0.6957\n",
      "Epoch 30/80\n",
      "1/1 [==============================] - 5s 5s/step - loss: 0.0690 - accuracy: 0.9886 - val_loss: 1.3014 - val_accuracy: 0.6957\n",
      "Epoch 31/80\n",
      "1/1 [==============================] - 5s 5s/step - loss: 0.0214 - accuracy: 0.9886 - val_loss: 1.3107 - val_accuracy: 0.6957\n",
      "Epoch 32/80\n",
      "1/1 [==============================] - 5s 5s/step - loss: 0.0239 - accuracy: 1.0000 - val_loss: 1.3040 - val_accuracy: 0.7391\n",
      "Epoch 33/80\n",
      "1/1 [==============================] - 5s 5s/step - loss: 0.0578 - accuracy: 0.9886 - val_loss: 1.2403 - val_accuracy: 0.7826\n",
      "Epoch 34/80\n",
      "1/1 [==============================] - 5s 5s/step - loss: 0.0047 - accuracy: 1.0000 - val_loss: 1.2125 - val_accuracy: 0.7826\n",
      "Epoch 35/80\n",
      "1/1 [==============================] - 5s 5s/step - loss: 0.0209 - accuracy: 1.0000 - val_loss: 1.2217 - val_accuracy: 0.8261\n",
      "Epoch 36/80\n",
      "1/1 [==============================] - 5s 5s/step - loss: 0.0077 - accuracy: 1.0000 - val_loss: 1.2582 - val_accuracy: 0.8261\n",
      "Epoch 37/80\n",
      "1/1 [==============================] - 5s 5s/step - loss: 0.0269 - accuracy: 1.0000 - val_loss: 1.3056 - val_accuracy: 0.8261\n",
      "Epoch 38/80\n",
      "1/1 [==============================] - 5s 5s/step - loss: 0.0390 - accuracy: 0.9886 - val_loss: 1.3668 - val_accuracy: 0.8261\n",
      "Epoch 39/80\n",
      "1/1 [==============================] - 5s 5s/step - loss: 0.0140 - accuracy: 1.0000 - val_loss: 1.3795 - val_accuracy: 0.8261\n",
      "Epoch 40/80\n",
      "1/1 [==============================] - 5s 5s/step - loss: 0.0205 - accuracy: 1.0000 - val_loss: 1.4206 - val_accuracy: 0.8261\n",
      "Epoch 41/80\n",
      "1/1 [==============================] - 5s 5s/step - loss: 0.0380 - accuracy: 0.9886 - val_loss: 1.3762 - val_accuracy: 0.8261\n",
      "Epoch 42/80\n",
      "1/1 [==============================] - 5s 5s/step - loss: 0.0021 - accuracy: 1.0000 - val_loss: 1.4074 - val_accuracy: 0.8261\n",
      "Epoch 43/80\n",
      "1/1 [==============================] - 5s 5s/step - loss: 8.5500e-04 - accuracy: 1.0000 - val_loss: 1.4694 - val_accuracy: 0.7826\n",
      "Epoch 44/80\n",
      "1/1 [==============================] - 5s 5s/step - loss: 0.0533 - accuracy: 0.9773 - val_loss: 1.4939 - val_accuracy: 0.8261\n",
      "Epoch 45/80\n",
      "1/1 [==============================] - 5s 5s/step - loss: 0.0312 - accuracy: 0.9773 - val_loss: 1.6045 - val_accuracy: 0.7391\n",
      "Epoch 46/80\n",
      "1/1 [==============================] - 5s 5s/step - loss: 0.1110 - accuracy: 0.9773 - val_loss: 1.7164 - val_accuracy: 0.7826\n",
      "Epoch 47/80\n",
      "1/1 [==============================] - 5s 5s/step - loss: 0.0495 - accuracy: 0.9773 - val_loss: 1.7507 - val_accuracy: 0.7826\n",
      "Epoch 48/80\n",
      "1/1 [==============================] - 5s 5s/step - loss: 0.0584 - accuracy: 0.9886 - val_loss: 1.7906 - val_accuracy: 0.7391\n",
      "Epoch 49/80\n",
      "1/1 [==============================] - 5s 5s/step - loss: 0.0175 - accuracy: 1.0000 - val_loss: 1.7996 - val_accuracy: 0.7391\n",
      "Epoch 50/80\n",
      "1/1 [==============================] - 5s 5s/step - loss: 0.0742 - accuracy: 0.9659 - val_loss: 1.7768 - val_accuracy: 0.7391\n",
      "Epoch 51/80\n",
      "1/1 [==============================] - 5s 5s/step - loss: 0.0827 - accuracy: 0.9659 - val_loss: 1.6668 - val_accuracy: 0.6522\n",
      "Epoch 52/80\n",
      "1/1 [==============================] - 5s 5s/step - loss: 0.0293 - accuracy: 0.9886 - val_loss: 1.5980 - val_accuracy: 0.6957\n",
      "Epoch 53/80\n",
      "1/1 [==============================] - 5s 5s/step - loss: 0.0268 - accuracy: 0.9886 - val_loss: 1.4530 - val_accuracy: 0.7391\n",
      "Epoch 54/80\n",
      "1/1 [==============================] - 5s 5s/step - loss: 0.0110 - accuracy: 1.0000 - val_loss: 1.3615 - val_accuracy: 0.7826\n",
      "Epoch 55/80\n",
      "1/1 [==============================] - 5s 5s/step - loss: 0.0169 - accuracy: 1.0000 - val_loss: 1.3047 - val_accuracy: 0.7826\n",
      "Epoch 56/80\n",
      "1/1 [==============================] - 5s 5s/step - loss: 0.0275 - accuracy: 0.9886 - val_loss: 1.2694 - val_accuracy: 0.8261\n",
      "Epoch 57/80\n",
      "1/1 [==============================] - 5s 5s/step - loss: 0.0030 - accuracy: 1.0000 - val_loss: 1.2506 - val_accuracy: 0.7826\n",
      "Epoch 58/80\n",
      "1/1 [==============================] - 5s 5s/step - loss: 0.0187 - accuracy: 0.9886 - val_loss: 1.1838 - val_accuracy: 0.8261\n",
      "Epoch 59/80\n",
      "1/1 [==============================] - 5s 5s/step - loss: 0.0091 - accuracy: 1.0000 - val_loss: 1.1557 - val_accuracy: 0.8261\n",
      "Epoch 60/80\n",
      "1/1 [==============================] - 5s 5s/step - loss: 0.0229 - accuracy: 0.9886 - val_loss: 1.1621 - val_accuracy: 0.8261\n",
      "Epoch 61/80\n",
      "1/1 [==============================] - 5s 5s/step - loss: 0.0127 - accuracy: 1.0000 - val_loss: 1.1498 - val_accuracy: 0.8261\n",
      "Epoch 62/80\n",
      "1/1 [==============================] - 5s 5s/step - loss: 0.0091 - accuracy: 1.0000 - val_loss: 1.1312 - val_accuracy: 0.8261\n",
      "Epoch 63/80\n",
      "1/1 [==============================] - 5s 5s/step - loss: 0.0049 - accuracy: 1.0000 - val_loss: 1.1190 - val_accuracy: 0.8261\n",
      "Epoch 64/80\n",
      "1/1 [==============================] - 5s 5s/step - loss: 0.0292 - accuracy: 0.9886 - val_loss: 1.1283 - val_accuracy: 0.8261\n",
      "Epoch 65/80\n",
      "1/1 [==============================] - 6s 6s/step - loss: 0.0026 - accuracy: 1.0000 - val_loss: 1.1332 - val_accuracy: 0.8261\n",
      "Epoch 66/80\n",
      "1/1 [==============================] - 5s 5s/step - loss: 0.0234 - accuracy: 0.9886 - val_loss: 1.1347 - val_accuracy: 0.8261\n",
      "Epoch 67/80\n",
      "1/1 [==============================] - 6s 6s/step - loss: 0.0344 - accuracy: 0.9886 - val_loss: 1.0862 - val_accuracy: 0.7826\n",
      "Epoch 68/80\n",
      "1/1 [==============================] - 6s 6s/step - loss: 0.0031 - accuracy: 1.0000 - val_loss: 1.0926 - val_accuracy: 0.7826\n",
      "Epoch 69/80\n",
      "1/1 [==============================] - 5s 5s/step - loss: 0.0016 - accuracy: 1.0000 - val_loss: 1.1220 - val_accuracy: 0.7826\n",
      "Epoch 70/80\n",
      "1/1 [==============================] - 5s 5s/step - loss: 0.0065 - accuracy: 1.0000 - val_loss: 1.1678 - val_accuracy: 0.7826\n",
      "Epoch 71/80\n",
      "1/1 [==============================] - 5s 5s/step - loss: 0.0073 - accuracy: 1.0000 - val_loss: 1.2226 - val_accuracy: 0.7391\n",
      "Epoch 72/80\n",
      "1/1 [==============================] - 5s 5s/step - loss: 0.0189 - accuracy: 0.9886 - val_loss: 1.2392 - val_accuracy: 0.7826\n",
      "Epoch 73/80\n",
      "1/1 [==============================] - 5s 5s/step - loss: 0.0024 - accuracy: 1.0000 - val_loss: 1.2650 - val_accuracy: 0.7826\n",
      "Epoch 74/80\n",
      "1/1 [==============================] - 5s 5s/step - loss: 0.0053 - accuracy: 1.0000 - val_loss: 1.2998 - val_accuracy: 0.7826\n",
      "Epoch 75/80\n",
      "1/1 [==============================] - 5s 5s/step - loss: 0.0485 - accuracy: 0.9773 - val_loss: 1.3449 - val_accuracy: 0.7391\n",
      "Epoch 76/80\n",
      "1/1 [==============================] - 5s 5s/step - loss: 0.0039 - accuracy: 1.0000 - val_loss: 1.3873 - val_accuracy: 0.7391\n",
      "Epoch 77/80\n",
      "1/1 [==============================] - 5s 5s/step - loss: 0.0125 - accuracy: 1.0000 - val_loss: 1.4443 - val_accuracy: 0.7391\n",
      "Epoch 78/80\n",
      "1/1 [==============================] - 6s 6s/step - loss: 0.0013 - accuracy: 1.0000 - val_loss: 1.4997 - val_accuracy: 0.7391\n",
      "Epoch 79/80\n",
      "1/1 [==============================] - 5s 5s/step - loss: 0.0066 - accuracy: 1.0000 - val_loss: 1.5603 - val_accuracy: 0.7391\n",
      "Epoch 80/80\n",
      "1/1 [==============================] - 5s 5s/step - loss: 0.0101 - accuracy: 1.0000 - val_loss: 1.6188 - val_accuracy: 0.7826\n"
     ]
    }
   ],
   "source": [
    "history = model.fit(x_train, y_train, batch_size= 256,\n",
    "                 epochs = 80, \n",
    "                 validation_split = 0.2)"
   ]
  },
  {
   "cell_type": "code",
   "execution_count": 39,
   "metadata": {
    "scrolled": true
   },
   "outputs": [
    {
     "name": "stdout",
     "output_type": "stream",
     "text": [
      "1/1 [==============================] - 0s 406ms/step - loss: 3.0765 - accuracy: 0.6429\n"
     ]
    },
    {
     "data": {
      "text/plain": [
       "0.6428571343421936"
      ]
     },
     "execution_count": 39,
     "metadata": {},
     "output_type": "execute_result"
    }
   ],
   "source": [
    "model.evaluate(x_test, y_test)[1]"
   ]
  },
  {
   "cell_type": "code",
   "execution_count": 40,
   "metadata": {
    "scrolled": true
   },
   "outputs": [
    {
     "data": {
      "text/plain": [
       "'C:\\\\Users\\\\User\\\\Desktop\\\\DISEASE DETECTION AND TREATMENT OF ARECANUT\\\\Code'"
      ]
     },
     "execution_count": 40,
     "metadata": {},
     "output_type": "execute_result"
    }
   ],
   "source": [
    "pwd"
   ]
  },
  {
   "cell_type": "code",
   "execution_count": 41,
   "metadata": {},
   "outputs": [
    {
     "data": {
      "image/png": "[encoded data removed]",
      "text/plain": [
       "<Figure size 432x288 with 1 Axes>"
      ]
     },
     "metadata": {
      "needs_background": "light"
     },
     "output_type": "display_data"
    }
   ],
   "source": [
    "#Visualize model accuracy\n",
    "plt.plot(history.history['accuracy'])\n",
    "plt.plot(history.history['val_accuracy'])\n",
    "plt.title('Model Accuracy')\n",
    "plt.ylabel('Accuracy')\n",
    "plt.xlabel('Epoch')\n",
    "plt.legend(['Train', 'Val'], loc = 'upper left')\n",
    "plt.show()"
   ]
  },
  {
   "cell_type": "code",
   "execution_count": 42,
   "metadata": {},
   "outputs": [
    {
     "data": {
      "image/png": "[encoded data removed]",
      "text/plain": [
       "<Figure size 432x288 with 1 Axes>"
      ]
     },
     "metadata": {
      "needs_background": "light"
     },
     "output_type": "display_data"
    }
   ],
   "source": [
    "#Visualize model loss\n",
    "plt.plot(history.history['loss'])\n",
    "plt.plot(history.history['val_loss'])\n",
    "plt.title('Model Loss')\n",
    "plt.ylabel('Loss')\n",
    "plt.xlabel('Epoch')\n",
    "plt.legend(['Train', 'Val'], loc = 'upper right')\n",
    "plt.show()"
   ]
  },
  {
   "cell_type": "code",
   "execution_count": 43,
   "metadata": {},
   "outputs": [
    {
     "name": "stdout",
     "output_type": "stream",
     "text": [
      "[INFO] Calculating model accuracy\n",
      "1/1 [==============================] - 0s 378ms/step - loss: 3.0765 - accuracy: 0.6429\n",
      "Test Accuracy: 64.28571343421936\n"
     ]
    }
   ],
   "source": [
    "print(\"[INFO] Calculating model accuracy\")\n",
    "scores = model.evaluate(x_test, y_test)\n",
    "print(f\"Test Accuracy: {scores[1]*100}\")"
   ]
  },
  {
   "cell_type": "code",
   "execution_count": 67,
   "metadata": {},
   "outputs": [],
   "source": [
    "#image_dir=\"C:\\Dataset\\plant_folder\\Healthy_Leaf\\\\Healthy_leaf (2).jpg\"\n",
    "image_dir=\"C:\\Dataset\\plant_folder\\Healthy_Nut\\\\healthy_nut (8).jpg\"\n",
    "#image_dir=\"C:\\Dataset\\plant_folder\\Healthy_Trunk\\\\Healthy (17).jpg\"\n",
    "#image_dir=\"C:\\Dataset\\plant_folder\\Mahali_Koleroga\\\\diseases_nut (1).jpg\"\n",
    "#image_dir=\"C:\\Dataset\\plant_folder\\Stem_bleeding\\\\diseased (3).jpg\"\n",
    "#image_dir=\"C:\\Dataset\\plant_folder\\yellow_leaf spot_disease\\\\yellow_leaf_spot (11).jpeg\"\n",
    "im=convert_image_to_array(image_dir)\n",
    "np_image_li = np.array(im, dtype=np.float16) /225.0\n",
    "npp_image = np.expand_dims(np_image_li, axis=0)"
   ]
  },
  {
   "cell_type": "code",
   "execution_count": 68,
   "metadata": {},
   "outputs": [],
   "source": [
    "#pavan\n",
    "img=img.resize(50,50)\n",
    "img=cv2.imread(image_dir)\n",
    "gray=cv2.cvtColor(img,cv2.COLOR_BGR2GRAY)\n",
    "kerne2=np.ones((5,5),np.uint8)\n",
    "ret,binary=cv2.threshold(img,160,255,cv2.THRESH_BINARY)\n",
    "icanny=cv2.Canny(img,130,130)\n",
    "erosion=cv2.erode(img,kerne2,iterations=1)\n",
    "dialation=cv2.dilate(icanny,kerne2,iterations=1)\n",
    "edges=cv2.Canny(dialation,100,200)"
   ]
  },
  {
   "cell_type": "code",
   "execution_count": 69,
   "metadata": {
    "scrolled": true
   },
   "outputs": [
    {
     "name": "stdout",
     "output_type": "stream",
     "text": [
      "1/1 [==============================] - 0s 89ms/step\n",
      "[[5.9425757e-30 1.0000000e+00 1.5109164e-29 3.9040342e-31 7.5839144e-34\n",
      "  6.0031364e-30]]\n"
     ]
    }
   ],
   "source": [
    "result=model.predict(npp_image)\n",
    "print(result)"
   ]
  },
  {
   "cell_type": "code",
   "execution_count": 70,
   "metadata": {},
   "outputs": [],
   "source": [
    "Remed = ['No diseas found it is healthy Leafe ','No diseas found it is healthy nut','No diseas found it is healthy Trunk','Disease found for this nut because of insufficient medicien so Disease can be controlled by adding the zinc and copper','this Disease found insufficient calcium content so controlled by paint for the mixxing of lime and Jaggery','Disease can be controlled by spraying with one per cent Bordeaux mixture or Dithane M 45 @ 3 gram/Liter.']"
   ]
  },
  {
   "cell_type": "code",
   "execution_count": 72,
   "metadata": {},
   "outputs": [],
   "source": [
    "import tkinter \n",
    "from tkinter import *\n",
    "root=Tk()\n",
    "root.title(\"Arecanut desease detection\")\n",
    "root.geometry(\"500x300\")\n",
    "#result=model.predict(npp_image)\n",
    "itemindex = np.where(result==np.max(result))\n",
    "def getvalu():\n",
    "    for i in range(len(result[0])):\n",
    "        re=label_binarizer.classes_[i]+\" \"+str(round(result[0][i]*100,2))+ \" %\" \n",
    "        print(re)\n",
    "    if itemindex[1][0]>2:\n",
    "        re=\"Treatment for the \"+ label_binarizer.classes_[itemindex[1][0]]+\" : \"+Remed[itemindex[1][0]]\n",
    "        print(\"\\n\",re)\n",
    "def show():\n",
    "    for i in range(len(result[0])):\n",
    "        re=label_binarizer.classes_[i]+\" \"+str(round(result[0][i]*100,2))+ \" %\" \n",
    "        print(re)\n",
    "    if itemindex[1][0]>2:\n",
    "        re=\"Treatment for the \"+ label_binarizer.classes_[itemindex[1][0]]+\" : \"+Remed[itemindex[1][0]]\n",
    "        print(\"\\n\",re)\n",
    "    cv2.imshow('input image',img)\n",
    "    #cv2.imshow('binary image',binary)\n",
    "    #cv2.imshow('gray image',gray)\n",
    "    cv2.imshow('Disease Spot detection image',icanny)\n",
    "    #cv2.imshow('erosion image',erosion)\n",
    "    #cv2.imshow('dilation image',dialation)\n",
    "    #cv2.imshow('edge images',edges)\n",
    "    cv2.imshow('output image',im)\n",
    "    \n",
    "def cancle():\n",
    "    root.destroy()\n",
    "Button(text=\"Show Output\",command=getvalu).place(x=10, y=10)\n",
    "#Label(root, text=re, fg='white', bg='black',font=\"ar 15 bold\").place(x=90, y=200)\n",
    "Button(text=\"output with image\",command=show).place(x=110, y=10)\n",
    "Button(text=\"Cancle\",command=cancle).place(x=250, y=10)\n",
    "\n",
    "root.mainloop()"
   ]
  }
 ],
 "metadata": {
  "kernelspec": {
   "display_name": "Python 3 (ipykernel)",
   "language": "python",
   "name": "python3"
  },
  "language_info": {
   "codemirror_mode": {
    "name": "ipython",
    "version": 3
   },
   "file_extension": ".py",
   "mimetype": "text/x-python",
   "name": "python",
   "nbconvert_exporter": "python",
   "pygments_lexer": "ipython3",
   "version": "3.9.12"
  }
 },
 "nbformat": 4,
 "nbformat_minor": 4
}

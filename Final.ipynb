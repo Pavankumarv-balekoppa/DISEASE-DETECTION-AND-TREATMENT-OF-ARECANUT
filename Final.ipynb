{
 "cells": [
  {
   "cell_type": "code",
   "execution_count": 1,
   "metadata": {},
   "outputs": [],
   "source": [
    "import numpy as np\n",
    "import pickle\n",
    "import cv2\n",
    "from os import listdir\n",
    "from sklearn.preprocessing import LabelBinarizer\n",
    "from keras.models import Sequential\n",
    "from tensorflow.keras.layers import BatchNormalization\n",
    "from keras.layers.convolutional import Conv2D\n",
    "from keras.layers.convolutional import MaxPooling2D\n",
    "from keras.layers.core import Activation, Flatten, Dropout, Dense\n",
    "from keras import backend as K\n",
    "from keras.preprocessing.image import ImageDataGenerator\n",
    "from keras.optimizers import Adam\n",
    "from keras.preprocessing import image\n",
    "from tensorflow.keras.utils import img_to_array\n",
    "from sklearn.preprocessing import MultiLabelBinarizer\n",
    "from sklearn.model_selection import train_test_split\n",
    "import matplotlib.pyplot as plt\n",
    "import os\n",
    "import pathlib"
   ]
  },
  {
   "cell_type": "code",
   "execution_count": 2,
   "metadata": {},
   "outputs": [],
   "source": [
    "EPOCHS = 40\n",
    "INIT_LR = 1e-3\n",
    "BS = 32\n",
    "default_image_size = tuple((256, 256))\n",
    "image_size = 0\n",
    "path = pathlib.Path('C:\\Dataset')\n",
    "width=256\n",
    "height=256\n",
    "depth=3"
   ]
  },
  {
   "cell_type": "code",
   "execution_count": 3,
   "metadata": {},
   "outputs": [],
   "source": [
    "def convert_image_to_array(image_dir):\n",
    "    try:\n",
    "        image = cv2.imread(image_dir)\n",
    "        if image is not None :\n",
    "            image = cv2.resize(image, default_image_size)   \n",
    "            return img_to_array(image)\n",
    "        else :\n",
    "            return np.array([])\n",
    "    except Exception as e:\n",
    "        print(f\"Error : {e}\")\n",
    "        return None"
   ]
  },
  {
   "cell_type": "code",
   "execution_count": 4,
   "metadata": {
    "scrolled": true
   },
   "outputs": [
    {
     "name": "stdout",
     "output_type": "stream",
     "text": [
      "[INFO] Loading images ...\n",
      "[INFO] Processing Healthy_Leaf ...\n",
      "[INFO] Processing Healthy_Nut ...\n",
      "[INFO] Processing Healthy_Trunk ...\n",
      "[INFO] Processing Mahali_Koleroga ...\n",
      "[INFO] Processing Stem_bleeding ...\n",
      "[INFO] Processing yellow_leaf spot_disease ...\n",
      "[INFO] Image loading completed\n"
     ]
    }
   ],
   "source": [
    "image_list, label_list = [], []\n",
    "l=[]\n",
    "try:\n",
    "    print(\"[INFO] Loading images ...\")\n",
    "    root_dir = listdir(path)\n",
    "    for directory in root_dir :\n",
    "        # remove .DS_Store from list\n",
    "        if directory == \".DS_Store\" :\n",
    "            root_dir.remove(directory)\n",
    "\n",
    "    for plant_folder in root_dir :\n",
    "        plant_disease_folder_list = listdir(f\"{path}/{plant_folder}\")\n",
    "        \n",
    "        #for disease_folder in plant_disease_folder_list :\n",
    "            # remove .DS_Store from list\n",
    "         #   if disease_folder == \".DS_Store\" :\n",
    "          #      plant_disease_folder_list.remove(disease_folder)\n",
    "\n",
    "        for plant_disease_folder in plant_disease_folder_list:\n",
    "            print(f\"[INFO] Processing {plant_disease_folder} ...\")\n",
    "            plant_disease_image_list = listdir(f\"{path}/{plant_folder}/{plant_disease_folder}/\")\n",
    "                \n",
    "            for single_plant_disease_image in plant_disease_image_list :\n",
    "                if single_plant_disease_image == \".DS_Store\" :\n",
    "                    plant_disease_image_list.remove(single_plant_disease_image)\n",
    "\n",
    "            for image in plant_disease_image_list:\n",
    "                l.append(image)\n",
    "                image_directory = f\"{path}/{plant_folder}/{plant_disease_folder}/{image}\"\n",
    "                if image_directory.endswith(\".jpg\") == True or image_directory.endswith(\".JPG\") == True:\n",
    "                    image_list.append(convert_image_to_array(image_directory))\n",
    "                    label_list.append(plant_disease_folder)\n",
    "    print(\"[INFO] Image loading completed\")  \n",
    "except Exception as e:\n",
    "    print(f\"Error : {e}\")"
   ]
  },
  {
   "cell_type": "code",
   "execution_count": 5,
   "metadata": {},
   "outputs": [],
   "source": [
    "image_size = len(image_list)"
   ]
  },
  {
   "cell_type": "code",
   "execution_count": 6,
   "metadata": {},
   "outputs": [],
   "source": [
    "label_binarizer = LabelBinarizer()\n",
    "image_labels = label_binarizer.fit_transform(label_list)\n",
    "#pickle.dump(label_binarizer,open('label_transform.pkl', 'wb'))\n",
    "n_classes = len(label_binarizer.classes_)"
   ]
  },
  {
   "cell_type": "code",
   "execution_count": 7,
   "metadata": {},
   "outputs": [
    {
     "name": "stdout",
     "output_type": "stream",
     "text": [
      "['Healthy_Leaf' 'Healthy_Nut' 'Healthy_Trunk' 'Mahali_Koleroga'\n",
      " 'Stem_bleeding' 'yellow_leaf spot_disease']\n"
     ]
    }
   ],
   "source": [
    "print(label_binarizer.classes_)"
   ]
  },
  {
   "cell_type": "code",
   "execution_count": 8,
   "metadata": {},
   "outputs": [
    {
     "name": "stdout",
     "output_type": "stream",
     "text": [
      "[[1 0 0 0 0 0]\n",
      " [1 0 0 0 0 0]\n",
      " [1 0 0 0 0 0]\n",
      " [1 0 0 0 0 0]\n",
      " [1 0 0 0 0 0]\n",
      " [1 0 0 0 0 0]\n",
      " [1 0 0 0 0 0]\n",
      " [1 0 0 0 0 0]\n",
      " [1 0 0 0 0 0]\n",
      " [1 0 0 0 0 0]\n",
      " [1 0 0 0 0 0]\n",
      " [1 0 0 0 0 0]\n",
      " [1 0 0 0 0 0]\n",
      " [1 0 0 0 0 0]\n",
      " [0 1 0 0 0 0]\n",
      " [0 1 0 0 0 0]\n",
      " [0 1 0 0 0 0]\n",
      " [0 1 0 0 0 0]\n",
      " [0 1 0 0 0 0]\n",
      " [0 1 0 0 0 0]\n",
      " [0 1 0 0 0 0]\n",
      " [0 1 0 0 0 0]\n",
      " [0 1 0 0 0 0]\n",
      " [0 1 0 0 0 0]\n",
      " [0 1 0 0 0 0]\n",
      " [0 1 0 0 0 0]\n",
      " [0 1 0 0 0 0]\n",
      " [0 1 0 0 0 0]\n",
      " [0 1 0 0 0 0]\n",
      " [0 1 0 0 0 0]\n",
      " [0 1 0 0 0 0]\n",
      " [0 1 0 0 0 0]\n",
      " [0 1 0 0 0 0]\n",
      " [0 1 0 0 0 0]\n",
      " [0 1 0 0 0 0]\n",
      " [0 1 0 0 0 0]\n",
      " [0 1 0 0 0 0]\n",
      " [0 1 0 0 0 0]\n",
      " [0 1 0 0 0 0]\n",
      " [0 1 0 0 0 0]\n",
      " [0 1 0 0 0 0]\n",
      " [0 1 0 0 0 0]\n",
      " [0 1 0 0 0 0]\n",
      " [0 1 0 0 0 0]\n",
      " [0 1 0 0 0 0]\n",
      " [0 1 0 0 0 0]\n",
      " [0 1 0 0 0 0]\n",
      " [0 1 0 0 0 0]\n",
      " [0 1 0 0 0 0]\n",
      " [0 1 0 0 0 0]\n",
      " [0 1 0 0 0 0]\n",
      " [0 1 0 0 0 0]\n",
      " [0 1 0 0 0 0]\n",
      " [0 1 0 0 0 0]\n",
      " [0 1 0 0 0 0]\n",
      " [0 1 0 0 0 0]\n",
      " [0 1 0 0 0 0]\n",
      " [0 1 0 0 0 0]\n",
      " [0 1 0 0 0 0]\n",
      " [0 0 1 0 0 0]\n",
      " [0 0 1 0 0 0]\n",
      " [0 0 1 0 0 0]\n",
      " [0 0 1 0 0 0]\n",
      " [0 0 1 0 0 0]\n",
      " [0 0 1 0 0 0]\n",
      " [0 0 1 0 0 0]\n",
      " [0 0 1 0 0 0]\n",
      " [0 0 1 0 0 0]\n",
      " [0 0 1 0 0 0]\n",
      " [0 0 1 0 0 0]\n",
      " [0 0 1 0 0 0]\n",
      " [0 0 1 0 0 0]\n",
      " [0 0 1 0 0 0]\n",
      " [0 0 1 0 0 0]\n",
      " [0 0 1 0 0 0]\n",
      " [0 0 1 0 0 0]\n",
      " [0 0 1 0 0 0]\n",
      " [0 0 1 0 0 0]\n",
      " [0 0 1 0 0 0]\n",
      " [0 0 1 0 0 0]\n",
      " [0 0 1 0 0 0]\n",
      " [0 0 1 0 0 0]\n",
      " [0 0 1 0 0 0]\n",
      " [0 0 1 0 0 0]\n",
      " [0 0 1 0 0 0]\n",
      " [0 0 1 0 0 0]\n",
      " [0 0 1 0 0 0]\n",
      " [0 0 1 0 0 0]\n",
      " [0 0 1 0 0 0]\n",
      " [0 0 1 0 0 0]\n",
      " [0 0 0 1 0 0]\n",
      " [0 0 0 1 0 0]\n",
      " [0 0 0 1 0 0]\n",
      " [0 0 0 0 1 0]\n",
      " [0 0 0 0 1 0]\n",
      " [0 0 0 0 1 0]\n",
      " [0 0 0 0 1 0]\n",
      " [0 0 0 0 1 0]\n",
      " [0 0 0 0 1 0]\n",
      " [0 0 0 0 1 0]\n",
      " [0 0 0 0 1 0]\n",
      " [0 0 0 0 1 0]\n",
      " [0 0 0 0 1 0]\n",
      " [0 0 0 0 1 0]\n",
      " [0 0 0 0 1 0]\n",
      " [0 0 0 0 1 0]\n",
      " [0 0 0 0 1 0]\n",
      " [0 0 0 0 1 0]\n",
      " [0 0 0 0 1 0]\n",
      " [0 0 0 0 1 0]\n",
      " [0 0 0 0 1 0]\n",
      " [0 0 0 0 1 0]\n",
      " [0 0 0 0 1 0]\n",
      " [0 0 0 0 1 0]\n",
      " [0 0 0 0 1 0]\n",
      " [0 0 0 0 1 0]\n",
      " [0 0 0 0 1 0]\n",
      " [0 0 0 0 1 0]\n",
      " [0 0 0 0 1 0]\n",
      " [0 0 0 0 1 0]\n",
      " [0 0 0 0 1 0]\n",
      " [0 0 0 0 1 0]\n",
      " [0 0 0 0 1 0]\n",
      " [0 0 0 0 1 0]\n",
      " [0 0 0 0 1 0]\n",
      " [0 0 0 0 1 0]\n",
      " [0 0 0 0 1 0]\n",
      " [0 0 0 0 1 0]\n",
      " [0 0 0 0 1 0]\n",
      " [0 0 0 0 1 0]\n",
      " [0 0 0 0 1 0]\n",
      " [0 0 0 0 0 1]\n",
      " [0 0 0 0 0 1]\n",
      " [0 0 0 0 0 1]\n",
      " [0 0 0 0 0 1]\n",
      " [0 0 0 0 0 1]\n",
      " [0 0 0 0 0 1]\n",
      " [0 0 0 0 0 1]\n",
      " [0 0 0 0 0 1]]\n"
     ]
    }
   ],
   "source": [
    "print(image_labels)"
   ]
  },
  {
   "cell_type": "code",
   "execution_count": 9,
   "metadata": {},
   "outputs": [],
   "source": [
    "np_image_list = np.array(image_list, dtype=np.float16) / 225.0"
   ]
  },
  {
   "cell_type": "code",
   "execution_count": 10,
   "metadata": {},
   "outputs": [
    {
     "name": "stdout",
     "output_type": "stream",
     "text": [
      "[INFO] Spliting data to train, test\n"
     ]
    }
   ],
   "source": [
    "print(\"[INFO] Spliting data to train, test\")\n",
    "x_train, x_test, y_train, y_test = train_test_split(np_image_list, image_labels, test_size=0.2, random_state = 42) "
   ]
  },
  {
   "cell_type": "code",
   "execution_count": 11,
   "metadata": {},
   "outputs": [],
   "source": [
    "aug = ImageDataGenerator(\n",
    "    rotation_range=25, width_shift_range=0.1,\n",
    "    height_shift_range=0.1, shear_range=0.2, \n",
    "    zoom_range=0.2,horizontal_flip=True, \n",
    "    fill_mode=\"nearest\")"
   ]
  },
  {
   "cell_type": "code",
   "execution_count": 12,
   "metadata": {},
   "outputs": [],
   "source": [
    "inputShape = (height, width, depth)\n",
    "chanDim = -1\n",
    "if K.image_data_format() == \"channels_first\":\n",
    "    inputShape = (depth, height, width)\n",
    "    chanDim = 1\n",
    "\n",
    "#Create models architecture\n",
    "model = Sequential()\n",
    "\n",
    "#Add the first layer\n",
    "model.add( Conv2D(32, (3,3), activation='relu', input_shape=inputShape))\n",
    "\n",
    "#Add a pooling layer\n",
    "model.add(MaxPooling2D(pool_size=(2,2)))\n",
    "\n",
    "#Add another convolutional layer\n",
    "model.add( Conv2D(32, (3,3), activation='relu'))\n",
    "\n",
    "#Add another pooling layer\n",
    "model.add(MaxPooling2D(pool_size=(2,2)))\n",
    "\n",
    "#Add a flatenning layer\n",
    "model.add(Flatten())\n",
    "\n",
    "#Add a layer with 1000 neurons\n",
    "model.add(Dense(1000, activation='relu'))\n",
    "\n",
    "#Add a dropout layer\n",
    "model.add(Dropout(0.5))\n",
    "\n",
    "#Add a layer with 500 neurons\n",
    "model.add(Dense(500, activation='relu'))\n",
    "\n",
    "#Add a dropout layer\n",
    "model.add(Dropout(0.5))\n",
    "\n",
    "#Add a layer with 250 neurons\n",
    "model.add(Dense(250, activation='relu'))\n",
    "\n",
    "#Add a dropout layer\n",
    "model.add(Dropout(0.5))\n",
    "\n",
    "\n",
    "#Add a layer with 125 neurons\n",
    "model.add(Dense(125, activation='relu'))\n",
    "\n",
    "#Add a layer with 10 neurons\n",
    "model.add(Dense(6, activation='softmax'))"
   ]
  },
  {
   "cell_type": "code",
   "execution_count": 13,
   "metadata": {},
   "outputs": [
    {
     "name": "stdout",
     "output_type": "stream",
     "text": [
      "Model: \"sequential\"\n",
      "_________________________________________________________________\n",
      " Layer (type)                Output Shape              Param #   \n",
      "=================================================================\n",
      " conv2d (Conv2D)             (None, 254, 254, 32)      896       \n",
      "                                                                 \n",
      " max_pooling2d (MaxPooling2D  (None, 127, 127, 32)     0         \n",
      " )                                                               \n",
      "                                                                 \n",
      " conv2d_1 (Conv2D)           (None, 125, 125, 32)      9248      \n",
      "                                                                 \n",
      " max_pooling2d_1 (MaxPooling  (None, 62, 62, 32)       0         \n",
      " 2D)                                                             \n",
      "                                                                 \n",
      " flatten (Flatten)           (None, 123008)            0         \n",
      "                                                                 \n",
      " dense (Dense)               (None, 1000)              123009000 \n",
      "                                                                 \n",
      " dropout (Dropout)           (None, 1000)              0         \n",
      "                                                                 \n",
      " dense_1 (Dense)             (None, 500)               500500    \n",
      "                                                                 \n",
      " dropout_1 (Dropout)         (None, 500)               0         \n",
      "                                                                 \n",
      " dense_2 (Dense)             (None, 250)               125250    \n",
      "                                                                 \n",
      " dropout_2 (Dropout)         (None, 250)               0         \n",
      "                                                                 \n",
      " dense_3 (Dense)             (None, 125)               31375     \n",
      "                                                                 \n",
      " dense_4 (Dense)             (None, 6)                 756       \n",
      "                                                                 \n",
      "=================================================================\n",
      "Total params: 123,677,025\n",
      "Trainable params: 123,677,025\n",
      "Non-trainable params: 0\n",
      "_________________________________________________________________\n"
     ]
    }
   ],
   "source": [
    "model.summary()"
   ]
  },
  {
   "cell_type": "code",
   "execution_count": 14,
   "metadata": {},
   "outputs": [],
   "source": [
    "model.compile(loss = 'categorical_crossentropy',\n",
    "              optimizer = 'adam', metrics = ['accuracy'])"
   ]
  },
  {
   "cell_type": "code",
   "execution_count": 29,
   "metadata": {},
   "outputs": [
    {
     "name": "stdout",
     "output_type": "stream",
     "text": [
      "Epoch 1/70\n",
      "1/1 [==============================] - 5s 5s/step - loss: 0.0674 - accuracy: 0.9659 - val_loss: 0.8675 - val_accuracy: 0.8261\n",
      "Epoch 2/70\n",
      "1/1 [==============================] - 5s 5s/step - loss: 0.1020 - accuracy: 0.9659 - val_loss: 0.8553 - val_accuracy: 0.8261\n",
      "Epoch 3/70\n",
      "1/1 [==============================] - 6s 6s/step - loss: 0.0671 - accuracy: 0.9659 - val_loss: 0.8129 - val_accuracy: 0.8261\n",
      "Epoch 4/70\n",
      "1/1 [==============================] - 5s 5s/step - loss: 0.0421 - accuracy: 0.9773 - val_loss: 0.8172 - val_accuracy: 0.8261\n",
      "Epoch 5/70\n",
      "1/1 [==============================] - 5s 5s/step - loss: 0.0475 - accuracy: 0.9773 - val_loss: 0.8507 - val_accuracy: 0.8261\n",
      "Epoch 6/70\n",
      "1/1 [==============================] - 5s 5s/step - loss: 0.0382 - accuracy: 0.9773 - val_loss: 0.8929 - val_accuracy: 0.8261\n",
      "Epoch 7/70\n",
      "1/1 [==============================] - 5s 5s/step - loss: 0.0639 - accuracy: 0.9773 - val_loss: 0.9043 - val_accuracy: 0.8261\n",
      "Epoch 8/70\n",
      "1/1 [==============================] - 5s 5s/step - loss: 0.0400 - accuracy: 0.9886 - val_loss: 0.9250 - val_accuracy: 0.8261\n",
      "Epoch 9/70\n",
      "1/1 [==============================] - 5s 5s/step - loss: 0.0229 - accuracy: 1.0000 - val_loss: 0.9572 - val_accuracy: 0.8261\n",
      "Epoch 10/70\n",
      "1/1 [==============================] - 5s 5s/step - loss: 0.0354 - accuracy: 0.9886 - val_loss: 1.0097 - val_accuracy: 0.8261\n",
      "Epoch 11/70\n",
      "1/1 [==============================] - 5s 5s/step - loss: 0.0547 - accuracy: 0.9886 - val_loss: 1.1067 - val_accuracy: 0.8261\n",
      "Epoch 12/70\n",
      "1/1 [==============================] - 5s 5s/step - loss: 0.0895 - accuracy: 0.9886 - val_loss: 1.1057 - val_accuracy: 0.8261\n",
      "Epoch 13/70\n",
      "1/1 [==============================] - 6s 6s/step - loss: 0.0114 - accuracy: 1.0000 - val_loss: 1.1135 - val_accuracy: 0.7826\n",
      "Epoch 14/70\n",
      "1/1 [==============================] - 5s 5s/step - loss: 0.0319 - accuracy: 1.0000 - val_loss: 1.0381 - val_accuracy: 0.8261\n",
      "Epoch 15/70\n",
      "1/1 [==============================] - 5s 5s/step - loss: 0.0248 - accuracy: 0.9886 - val_loss: 0.9755 - val_accuracy: 0.8261\n",
      "Epoch 16/70\n",
      "1/1 [==============================] - 5s 5s/step - loss: 0.0397 - accuracy: 0.9886 - val_loss: 0.9424 - val_accuracy: 0.8261\n",
      "Epoch 17/70\n",
      "1/1 [==============================] - 5s 5s/step - loss: 0.0230 - accuracy: 0.9886 - val_loss: 0.9249 - val_accuracy: 0.8261\n",
      "Epoch 18/70\n",
      "1/1 [==============================] - 5s 5s/step - loss: 0.0105 - accuracy: 1.0000 - val_loss: 0.9330 - val_accuracy: 0.8261\n",
      "Epoch 19/70\n",
      "1/1 [==============================] - 5s 5s/step - loss: 0.0100 - accuracy: 1.0000 - val_loss: 0.9419 - val_accuracy: 0.8261\n",
      "Epoch 20/70\n",
      "1/1 [==============================] - 6s 6s/step - loss: 0.0119 - accuracy: 1.0000 - val_loss: 0.9675 - val_accuracy: 0.8261\n",
      "Epoch 21/70\n",
      "1/1 [==============================] - 6s 6s/step - loss: 0.0034 - accuracy: 1.0000 - val_loss: 0.9999 - val_accuracy: 0.8261\n",
      "Epoch 22/70\n",
      "1/1 [==============================] - 5s 5s/step - loss: 0.0256 - accuracy: 0.9886 - val_loss: 0.9911 - val_accuracy: 0.8261\n",
      "Epoch 23/70\n",
      "1/1 [==============================] - 5s 5s/step - loss: 0.0082 - accuracy: 1.0000 - val_loss: 1.0115 - val_accuracy: 0.8261\n",
      "Epoch 24/70\n",
      "1/1 [==============================] - 5s 5s/step - loss: 0.0036 - accuracy: 1.0000 - val_loss: 1.0454 - val_accuracy: 0.8261\n",
      "Epoch 25/70\n",
      "1/1 [==============================] - 6s 6s/step - loss: 0.0102 - accuracy: 1.0000 - val_loss: 1.0853 - val_accuracy: 0.8261\n",
      "Epoch 26/70\n",
      "1/1 [==============================] - 6s 6s/step - loss: 0.0032 - accuracy: 1.0000 - val_loss: 1.1275 - val_accuracy: 0.8261\n",
      "Epoch 27/70\n",
      "1/1 [==============================] - 5s 5s/step - loss: 0.0192 - accuracy: 0.9886 - val_loss: 1.1872 - val_accuracy: 0.8261\n",
      "Epoch 28/70\n",
      "1/1 [==============================] - 5s 5s/step - loss: 0.0115 - accuracy: 1.0000 - val_loss: 1.2439 - val_accuracy: 0.8696\n",
      "Epoch 29/70\n",
      "1/1 [==============================] - 5s 5s/step - loss: 0.0188 - accuracy: 0.9886 - val_loss: 1.3310 - val_accuracy: 0.8261\n",
      "Epoch 30/70\n",
      "1/1 [==============================] - 5s 5s/step - loss: 0.0078 - accuracy: 1.0000 - val_loss: 1.4327 - val_accuracy: 0.8261\n",
      "Epoch 31/70\n",
      "1/1 [==============================] - 5s 5s/step - loss: 0.0117 - accuracy: 1.0000 - val_loss: 1.5167 - val_accuracy: 0.8261\n",
      "Epoch 32/70\n",
      "1/1 [==============================] - 5s 5s/step - loss: 0.0048 - accuracy: 1.0000 - val_loss: 1.5888 - val_accuracy: 0.8261\n",
      "Epoch 33/70\n",
      "1/1 [==============================] - 5s 5s/step - loss: 0.0790 - accuracy: 0.9886 - val_loss: 1.4886 - val_accuracy: 0.8261\n",
      "Epoch 34/70\n",
      "1/1 [==============================] - 5s 5s/step - loss: 0.0030 - accuracy: 1.0000 - val_loss: 1.4104 - val_accuracy: 0.8261\n",
      "Epoch 35/70\n",
      "1/1 [==============================] - 5s 5s/step - loss: 0.0137 - accuracy: 1.0000 - val_loss: 1.3427 - val_accuracy: 0.8261\n",
      "Epoch 36/70\n",
      "1/1 [==============================] - 5s 5s/step - loss: 0.0159 - accuracy: 1.0000 - val_loss: 1.2719 - val_accuracy: 0.8261\n",
      "Epoch 37/70\n",
      "1/1 [==============================] - 5s 5s/step - loss: 0.0077 - accuracy: 1.0000 - val_loss: 1.2078 - val_accuracy: 0.8696\n",
      "Epoch 38/70\n",
      "1/1 [==============================] - 5s 5s/step - loss: 0.0042 - accuracy: 1.0000 - val_loss: 1.1598 - val_accuracy: 0.8696\n",
      "Epoch 39/70\n",
      "1/1 [==============================] - 5s 5s/step - loss: 0.0045 - accuracy: 1.0000 - val_loss: 1.1310 - val_accuracy: 0.8696\n",
      "Epoch 40/70\n",
      "1/1 [==============================] - 5s 5s/step - loss: 0.0055 - accuracy: 1.0000 - val_loss: 1.1318 - val_accuracy: 0.7826\n",
      "Epoch 41/70\n",
      "1/1 [==============================] - 5s 5s/step - loss: 0.0031 - accuracy: 1.0000 - val_loss: 1.1496 - val_accuracy: 0.7826\n",
      "Epoch 42/70\n",
      "1/1 [==============================] - 5s 5s/step - loss: 0.0539 - accuracy: 0.9886 - val_loss: 1.0931 - val_accuracy: 0.7826\n",
      "Epoch 43/70\n",
      "1/1 [==============================] - 5s 5s/step - loss: 0.0069 - accuracy: 1.0000 - val_loss: 1.0602 - val_accuracy: 0.8696\n",
      "Epoch 44/70\n",
      "1/1 [==============================] - 5s 5s/step - loss: 7.4624e-04 - accuracy: 1.0000 - val_loss: 1.0365 - val_accuracy: 0.8696\n",
      "Epoch 45/70\n",
      "1/1 [==============================] - 5s 5s/step - loss: 0.0026 - accuracy: 1.0000 - val_loss: 1.0230 - val_accuracy: 0.8696\n",
      "Epoch 46/70\n",
      "1/1 [==============================] - 5s 5s/step - loss: 0.0152 - accuracy: 0.9886 - val_loss: 1.0231 - val_accuracy: 0.8696\n",
      "Epoch 47/70\n",
      "1/1 [==============================] - 5s 5s/step - loss: 0.0021 - accuracy: 1.0000 - val_loss: 1.0270 - val_accuracy: 0.8696\n",
      "Epoch 48/70\n",
      "1/1 [==============================] - 5s 5s/step - loss: 0.0074 - accuracy: 1.0000 - val_loss: 1.0401 - val_accuracy: 0.8696\n",
      "Epoch 49/70\n",
      "1/1 [==============================] - 5s 5s/step - loss: 0.0031 - accuracy: 1.0000 - val_loss: 1.0681 - val_accuracy: 0.8261\n",
      "Epoch 50/70\n",
      "1/1 [==============================] - 5s 5s/step - loss: 0.0067 - accuracy: 1.0000 - val_loss: 1.1175 - val_accuracy: 0.8261\n",
      "Epoch 51/70\n",
      "1/1 [==============================] - 5s 5s/step - loss: 0.0045 - accuracy: 1.0000 - val_loss: 1.1824 - val_accuracy: 0.8261\n",
      "Epoch 52/70\n",
      "1/1 [==============================] - 5s 5s/step - loss: 8.2759e-04 - accuracy: 1.0000 - val_loss: 1.2471 - val_accuracy: 0.8261\n",
      "Epoch 53/70\n",
      "1/1 [==============================] - 5s 5s/step - loss: 0.0050 - accuracy: 1.0000 - val_loss: 1.2660 - val_accuracy: 0.8261\n",
      "Epoch 54/70\n",
      "1/1 [==============================] - 5s 5s/step - loss: 0.0072 - accuracy: 1.0000 - val_loss: 1.2695 - val_accuracy: 0.8261\n",
      "Epoch 55/70\n",
      "1/1 [==============================] - 5s 5s/step - loss: 0.0064 - accuracy: 1.0000 - val_loss: 1.2923 - val_accuracy: 0.8261\n",
      "Epoch 56/70\n",
      "1/1 [==============================] - 5s 5s/step - loss: 0.0013 - accuracy: 1.0000 - val_loss: 1.3170 - val_accuracy: 0.8261\n",
      "Epoch 57/70\n",
      "1/1 [==============================] - 5s 5s/step - loss: 0.0015 - accuracy: 1.0000 - val_loss: 1.3404 - val_accuracy: 0.8261\n",
      "Epoch 58/70\n",
      "1/1 [==============================] - 5s 5s/step - loss: 0.0113 - accuracy: 0.9886 - val_loss: 1.3746 - val_accuracy: 0.8261\n",
      "Epoch 59/70\n",
      "1/1 [==============================] - 5s 5s/step - loss: 0.0376 - accuracy: 0.9773 - val_loss: 1.3001 - val_accuracy: 0.8261\n",
      "Epoch 60/70\n"
     ]
    },
    {
     "name": "stdout",
     "output_type": "stream",
     "text": [
      "1/1 [==============================] - 5s 5s/step - loss: 0.0014 - accuracy: 1.0000 - val_loss: 1.2480 - val_accuracy: 0.8696\n",
      "Epoch 61/70\n",
      "1/1 [==============================] - 5s 5s/step - loss: 0.0063 - accuracy: 1.0000 - val_loss: 1.2606 - val_accuracy: 0.8696\n",
      "Epoch 62/70\n",
      "1/1 [==============================] - 5s 5s/step - loss: 0.0016 - accuracy: 1.0000 - val_loss: 1.2955 - val_accuracy: 0.8696\n",
      "Epoch 63/70\n",
      "1/1 [==============================] - 5s 5s/step - loss: 0.0012 - accuracy: 1.0000 - val_loss: 1.3315 - val_accuracy: 0.8696\n",
      "Epoch 64/70\n",
      "1/1 [==============================] - 5s 5s/step - loss: 8.1048e-04 - accuracy: 1.0000 - val_loss: 1.3653 - val_accuracy: 0.8696\n",
      "Epoch 65/70\n",
      "1/1 [==============================] - 5s 5s/step - loss: 0.0040 - accuracy: 1.0000 - val_loss: 1.4030 - val_accuracy: 0.8696\n",
      "Epoch 66/70\n",
      "1/1 [==============================] - 5s 5s/step - loss: 0.0027 - accuracy: 1.0000 - val_loss: 1.4375 - val_accuracy: 0.8696\n",
      "Epoch 67/70\n",
      "1/1 [==============================] - 5s 5s/step - loss: 0.0026 - accuracy: 1.0000 - val_loss: 1.4452 - val_accuracy: 0.8696\n",
      "Epoch 68/70\n",
      "1/1 [==============================] - 5s 5s/step - loss: 0.0050 - accuracy: 1.0000 - val_loss: 1.4473 - val_accuracy: 0.8696\n",
      "Epoch 69/70\n",
      "1/1 [==============================] - 5s 5s/step - loss: 9.5569e-04 - accuracy: 1.0000 - val_loss: 1.4515 - val_accuracy: 0.8696\n",
      "Epoch 70/70\n",
      "1/1 [==============================] - 5s 5s/step - loss: 0.0018 - accuracy: 1.0000 - val_loss: 1.4565 - val_accuracy: 0.8696\n"
     ]
    }
   ],
   "source": [
    "history = model.fit(x_train, y_train, batch_size= 256,\n",
    "                 epochs = 70, \n",
    "                 validation_split = 0.2)"
   ]
  },
  {
   "cell_type": "code",
   "execution_count": 30,
   "metadata": {
    "scrolled": true
   },
   "outputs": [
    {
     "name": "stdout",
     "output_type": "stream",
     "text": [
      "1/1 [==============================] - 0s 474ms/step - loss: 2.1019 - accuracy: 0.7143\n"
     ]
    },
    {
     "data": {
      "text/plain": [
       "0.7142857313156128"
      ]
     },
     "execution_count": 30,
     "metadata": {},
     "output_type": "execute_result"
    }
   ],
   "source": [
    "model.evaluate(x_test, y_test)[1]"
   ]
  },
  {
   "cell_type": "code",
   "execution_count": 31,
   "metadata": {
    "scrolled": true
   },
   "outputs": [
    {
     "data": {
      "text/plain": [
       "'C:\\\\Users\\\\User\\\\Desktop\\\\DISEASE DETECTION AND TREATMENT OF ARECANUT\\\\Code'"
      ]
     },
     "execution_count": 31,
     "metadata": {},
     "output_type": "execute_result"
    }
   ],
   "source": [
    "pwd"
   ]
  },
  {
   "cell_type": "code",
   "execution_count": 32,
   "metadata": {},
   "outputs": [
    {
     "data": {
      "image/png": "[encoded data removed]",
      "text/plain": [
       "<Figure size 432x288 with 1 Axes>"
      ]
     },
     "metadata": {
      "needs_background": "light"
     },
     "output_type": "display_data"
    }
   ],
   "source": [
    "#Visualize model accuracy\n",
    "plt.plot(history.history['accuracy'])\n",
    "plt.plot(history.history['val_accuracy'])\n",
    "plt.title('Model Accuracy')\n",
    "plt.ylabel('Accuracy')\n",
    "plt.xlabel('Epoch')\n",
    "plt.legend(['Train', 'Val'], loc = 'upper left')\n",
    "plt.show()"
   ]
  },
  {
   "cell_type": "code",
   "execution_count": 33,
   "metadata": {},
   "outputs": [
    {
     "data": {
      "image/png": "[encoded data removed]",
      "text/plain": [
       "<Figure size 432x288 with 1 Axes>"
      ]
     },
     "metadata": {
      "needs_background": "light"
     },
     "output_type": "display_data"
    }
   ],
   "source": [
    "#Visualize model loss\n",
    "plt.plot(history.history['loss'])\n",
    "plt.plot(history.history['val_loss'])\n",
    "plt.title('Model Loss')\n",
    "plt.ylabel('Loss')\n",
    "plt.xlabel('Epoch')\n",
    "plt.legend(['Train', 'Val'], loc = 'upper right')\n",
    "plt.show()"
   ]
  },
  {
   "cell_type": "code",
   "execution_count": 34,
   "metadata": {},
   "outputs": [
    {
     "name": "stdout",
     "output_type": "stream",
     "text": [
      "[INFO] Calculating model accuracy\n",
      "1/1 [==============================] - 0s 437ms/step - loss: 2.1019 - accuracy: 0.7143\n",
      "Test Accuracy: 71.42857313156128\n"
     ]
    }
   ],
   "source": [
    "print(\"[INFO] Calculating model accuracy\")\n",
    "scores = model.evaluate(x_test, y_test)\n",
    "print(f\"Test Accuracy: {scores[1]*100}\")"
   ]
  },
  {
   "cell_type": "code",
   "execution_count": 35,
   "metadata": {},
   "outputs": [],
   "source": [
    "#image_dir=\"C:\\Dataset\\plant_folder\\Healthy_Leaf\\\\Healthy_leaf (2).jpg\"\n",
    "#image_dir=\"C:\\Dataset\\plant_folder\\Healthy_Nut\\\\healthy_nut (8).jpg\"\n",
    "#image_dir=\"C:\\Dataset\\plant_folder\\Healthy_Trunk\\\\Healthy (17).jpg\"\n",
    "image_dir=\"C:\\Dataset\\plant_folder\\Mahali_Koleroga\\\\diseases_nut (1).jpg\"\n",
    "#image_dir=\"C:\\Dataset\\plant_folder\\Stem_bleeding\\\\diseased (3).jpg\"\n",
    "#image_dir=\"C:\\Dataset\\plant_folder\\yellow_leaf spot_disease\\\\yellow_leaf_spot (11).jpeg\"\n",
    "im=convert_image_to_array(image_dir)\n",
    "np_image_li = np.array(im, dtype=np.float16) /225.0\n",
    "npp_image = np.expand_dims(np_image_li, axis=0)"
   ]
  },
  {
   "cell_type": "code",
   "execution_count": 36,
   "metadata": {},
   "outputs": [],
   "source": [
    "#pavan\n",
    "img=img.resize(50,50)\n",
    "img=cv2.imread(image_dir)\n",
    "gray=cv2.cvtColor(img,cv2.COLOR_BGR2GRAY)\n",
    "kerne2=np.ones((5,5),np.uint8)\n",
    "ret,binary=cv2.threshold(img,160,255,cv2.THRESH_BINARY)\n",
    "icanny=cv2.Canny(img,130,130)\n",
    "erosion=cv2.erode(img,kerne2,iterations=1)\n",
    "dialation=cv2.dilate(icanny,kerne2,iterations=1)\n",
    "edges=cv2.Canny(dialation,100,200)"
   ]
  },
  {
   "cell_type": "code",
   "execution_count": 37,
   "metadata": {
    "scrolled": true
   },
   "outputs": [
    {
     "name": "stdout",
     "output_type": "stream",
     "text": [
      "1/1 [==============================] - 0s 83ms/step\n",
      "[[2.4928944e-04 3.0096309e-05 8.6245993e-05 9.9960715e-01 2.5863561e-05\n",
      "  1.2789034e-06]]\n"
     ]
    }
   ],
   "source": [
    "result=model.predict(npp_image)\n",
    "print(result)"
   ]
  },
  {
   "cell_type": "code",
   "execution_count": 38,
   "metadata": {},
   "outputs": [],
   "source": [
    "Remed = ['No diseas found it is healthy Leafe ','No diseas found it is healthy nut','No diseas found it is healthy Trunk','Disease found for this nut because of insufficient medicien so Disease can be controlled by adding the zinc and copper','this Disease found insufficient calcium content so controlled by paint for the mixxing of lime and Jaggery','Disease can be controlled by spraying with one per cent Bordeaux mixture or Dithane M 45 @ 3 gram/Liter.']"
   ]
  },
  {
   "cell_type": "code",
   "execution_count": 39,
   "metadata": {},
   "outputs": [
    {
     "name": "stdout",
     "output_type": "stream",
     "text": [
      "Healthy_Leaf 0.02 %\n",
      "Healthy_Nut 0.0 %\n",
      "Healthy_Trunk 0.01 %\n",
      "Mahali_Koleroga 99.96 %\n",
      "Stem_bleeding 0.0 %\n",
      "yellow_leaf spot_disease 0.0 %\n",
      "\n",
      " Treatment for the Mahali_Koleroga : Disease found for this nut because of insufficient medicien so Disease can be controlled by adding the zinc and copper\n"
     ]
    }
   ],
   "source": [
    "import tkinter \n",
    "from tkinter import *\n",
    "root=Tk()\n",
    "root.title(\"Arecanut desease detection\")\n",
    "root.geometry(\"500x300\")\n",
    "#result=model.predict(npp_image)\n",
    "itemindex = np.where(result==np.max(result))\n",
    "def getvalu():\n",
    "    for i in range(len(result[0])):\n",
    "        re=label_binarizer.classes_[i]+\" \"+str(round(result[0][i]*100,2))+ \" %\" \n",
    "        print(re)\n",
    "    if itemindex[1][0]>2:\n",
    "        re=\"Treatment for the \"+ label_binarizer.classes_[itemindex[1][0]]+\" : \"+Remed[itemindex[1][0]]\n",
    "        print(\"\\n\",re)\n",
    "def show():\n",
    "    for i in range(len(result[0])):\n",
    "        re=label_binarizer.classes_[i]+\" \"+str(round(result[0][i]*100,2))+ \" %\" \n",
    "        print(re)\n",
    "    if itemindex[1][0]>2:\n",
    "        re=\"Treatment for the \"+ label_binarizer.classes_[itemindex[1][0]]+\" : \"+Remed[itemindex[1][0]]\n",
    "        print(\"\\n\",re)\n",
    "    cv2.imshow('input image',img)\n",
    "    #cv2.imshow('binary image',binary)\n",
    "    #cv2.imshow('gray image',gray)\n",
    "    cv2.imshow('Disease Spot detection image',icanny)\n",
    "    #cv2.imshow('erosion image',erosion)\n",
    "    #cv2.imshow('dilation image',dialation)\n",
    "    #cv2.imshow('edge images',edges)\n",
    "    cv2.imshow('output image',im)\n",
    "    \n",
    "def cancle():\n",
    "    root.destroy()\n",
    "Button(text=\"Show Output\",command=getvalu).place(x=10, y=10)\n",
    "#Label(root, text=re, fg='white', bg='black',font=\"ar 15 bold\").place(x=90, y=200)\n",
    "Button(text=\"output with image\",command=show).place(x=110, y=10)\n",
    "Button(text=\"Cancle\",command=cancle).place(x=250, y=10)\n",
    "\n",
    "root.mainloop()"
   ]
  }
 ],
 "metadata": {
  "kernelspec": {
   "display_name": "Python 3 (ipykernel)",
   "language": "python",
   "name": "python3"
  },
  "language_info": {
   "codemirror_mode": {
    "name": "ipython",
    "version": 3
   },
   "file_extension": ".py",
   "mimetype": "text/x-python",
   "name": "python",
   "nbconvert_exporter": "python",
   "pygments_lexer": "ipython3",
   "version": "3.9.12"
  }
 },
 "nbformat": 4,
 "nbformat_minor": 4
}

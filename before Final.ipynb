{
 "cells": [
  {
   "cell_type": "code",
   "execution_count": 1,
   "metadata": {},
   "outputs": [],
   "source": [
    "import numpy as np\n",
    "import pickle\n",
    "import cv2\n",
    "from os import listdir\n",
    "from sklearn.preprocessing import LabelBinarizer\n",
    "from keras.models import Sequential\n",
    "from tensorflow.keras.layers import BatchNormalization\n",
    "from keras.layers.convolutional import Conv2D\n",
    "from keras.layers.convolutional import MaxPooling2D\n",
    "from keras.layers.core import Activation, Flatten, Dropout, Dense\n",
    "from keras import backend as K\n",
    "from keras.preprocessing.image import ImageDataGenerator\n",
    "from keras.optimizers import Adam\n",
    "from keras.preprocessing import image\n",
    "from tensorflow.keras.utils import img_to_array\n",
    "from sklearn.preprocessing import MultiLabelBinarizer\n",
    "from sklearn.model_selection import train_test_split\n",
    "import matplotlib.pyplot as plt\n",
    "import os\n",
    "import pathlib"
   ]
  },
  {
   "cell_type": "code",
   "execution_count": 2,
   "metadata": {},
   "outputs": [],
   "source": [
    "EPOCHS = 25\n",
    "INIT_LR = 1e-3\n",
    "BS = 32\n",
    "default_image_size = tuple((256, 256))\n",
    "image_size = 0\n",
    "path = pathlib.Path('C:\\Dataset')\n",
    "width=256\n",
    "height=256\n",
    "depth=3"
   ]
  },
  {
   "cell_type": "code",
   "execution_count": 3,
   "metadata": {},
   "outputs": [],
   "source": [
    "def convert_image_to_array(image_dir):\n",
    "    try:\n",
    "        image = cv2.imread(image_dir)\n",
    "        if image is not None :\n",
    "            image = cv2.resize(image, default_image_size)   \n",
    "            return img_to_array(image)\n",
    "        else :\n",
    "            return np.array([])\n",
    "    except Exception as e:\n",
    "        print(f\"Error : {e}\")\n",
    "        return None"
   ]
  },
  {
   "cell_type": "code",
   "execution_count": 4,
   "metadata": {
    "scrolled": true
   },
   "outputs": [
    {
     "name": "stdout",
     "output_type": "stream",
     "text": [
      "[INFO] Loading images ...\n",
      "[INFO] Processing Healthy_Leaf ...\n",
      "[INFO] Processing Healthy_Nut ...\n",
      "[INFO] Processing Healthy_Trunk ...\n",
      "[INFO] Processing Mahali_Koleroga ...\n",
      "[INFO] Processing Stem_bleeding ...\n",
      "[INFO] Processing yellow_leaf spot_disease ...\n",
      "[INFO] Image loading completed\n"
     ]
    }
   ],
   "source": [
    "image_list, label_list = [], []\n",
    "l=[]\n",
    "try:\n",
    "    print(\"[INFO] Loading images ...\")\n",
    "    root_dir = listdir(path)\n",
    "    for directory in root_dir :\n",
    "        # remove .DS_Store from list\n",
    "        if directory == \".DS_Store\" :\n",
    "            root_dir.remove(directory)\n",
    "\n",
    "    for plant_folder in root_dir :\n",
    "        plant_disease_folder_list = listdir(f\"{path}/{plant_folder}\")\n",
    "        \n",
    "        for disease_folder in plant_disease_folder_list :\n",
    "            # remove .DS_Store from list\n",
    "            if disease_folder == \".DS_Store\" :\n",
    "                plant_disease_folder_list.remove(disease_folder)\n",
    "\n",
    "        for plant_disease_folder in plant_disease_folder_list:\n",
    "            print(f\"[INFO] Processing {plant_disease_folder} ...\")\n",
    "            plant_disease_image_list = listdir(f\"{path}/{plant_folder}/{plant_disease_folder}/\")\n",
    "                \n",
    "            for single_plant_disease_image in plant_disease_image_list :\n",
    "                if single_plant_disease_image == \".DS_Store\" :\n",
    "                    plant_disease_image_list.remove(single_plant_disease_image)\n",
    "\n",
    "            for image in plant_disease_image_list:\n",
    "                l.append(image)\n",
    "                image_directory = f\"{path}/{plant_folder}/{plant_disease_folder}/{image}\"\n",
    "                if image_directory.endswith(\".jpg\") == True or image_directory.endswith(\".JPG\") == True:\n",
    "                    image_list.append(convert_image_to_array(image_directory))\n",
    "                    label_list.append(plant_disease_folder)\n",
    "    print(\"[INFO] Image loading completed\")  \n",
    "except Exception as e:\n",
    "    print(f\"Error : {e}\")"
   ]
  },
  {
   "cell_type": "code",
   "execution_count": 5,
   "metadata": {},
   "outputs": [],
   "source": [
    "image_size = len(image_list)"
   ]
  },
  {
   "cell_type": "code",
   "execution_count": 6,
   "metadata": {},
   "outputs": [],
   "source": [
    "label_binarizer = LabelBinarizer()\n",
    "image_labels = label_binarizer.fit_transform(label_list)\n",
    "#pickle.dump(label_binarizer,open('label_transform.pkl', 'wb'))\n",
    "n_classes = len(label_binarizer.classes_)"
   ]
  },
  {
   "cell_type": "code",
   "execution_count": 7,
   "metadata": {},
   "outputs": [
    {
     "name": "stdout",
     "output_type": "stream",
     "text": [
      "['Healthy_Leaf' 'Healthy_Nut' 'Healthy_Trunk' 'Mahali_Koleroga'\n",
      " 'Stem_bleeding' 'yellow_leaf spot_disease']\n"
     ]
    }
   ],
   "source": [
    "print(label_binarizer.classes_)"
   ]
  },
  {
   "cell_type": "code",
   "execution_count": 8,
   "metadata": {},
   "outputs": [
    {
     "name": "stdout",
     "output_type": "stream",
     "text": [
      "[[1 0 0 0 0 0]\n",
      " [1 0 0 0 0 0]\n",
      " [1 0 0 0 0 0]\n",
      " [1 0 0 0 0 0]\n",
      " [1 0 0 0 0 0]\n",
      " [1 0 0 0 0 0]\n",
      " [1 0 0 0 0 0]\n",
      " [1 0 0 0 0 0]\n",
      " [1 0 0 0 0 0]\n",
      " [1 0 0 0 0 0]\n",
      " [1 0 0 0 0 0]\n",
      " [1 0 0 0 0 0]\n",
      " [1 0 0 0 0 0]\n",
      " [1 0 0 0 0 0]\n",
      " [0 1 0 0 0 0]\n",
      " [0 1 0 0 0 0]\n",
      " [0 1 0 0 0 0]\n",
      " [0 1 0 0 0 0]\n",
      " [0 1 0 0 0 0]\n",
      " [0 1 0 0 0 0]\n",
      " [0 1 0 0 0 0]\n",
      " [0 1 0 0 0 0]\n",
      " [0 1 0 0 0 0]\n",
      " [0 1 0 0 0 0]\n",
      " [0 1 0 0 0 0]\n",
      " [0 1 0 0 0 0]\n",
      " [0 1 0 0 0 0]\n",
      " [0 1 0 0 0 0]\n",
      " [0 1 0 0 0 0]\n",
      " [0 1 0 0 0 0]\n",
      " [0 1 0 0 0 0]\n",
      " [0 1 0 0 0 0]\n",
      " [0 1 0 0 0 0]\n",
      " [0 1 0 0 0 0]\n",
      " [0 1 0 0 0 0]\n",
      " [0 1 0 0 0 0]\n",
      " [0 1 0 0 0 0]\n",
      " [0 1 0 0 0 0]\n",
      " [0 1 0 0 0 0]\n",
      " [0 1 0 0 0 0]\n",
      " [0 1 0 0 0 0]\n",
      " [0 1 0 0 0 0]\n",
      " [0 1 0 0 0 0]\n",
      " [0 1 0 0 0 0]\n",
      " [0 1 0 0 0 0]\n",
      " [0 1 0 0 0 0]\n",
      " [0 1 0 0 0 0]\n",
      " [0 1 0 0 0 0]\n",
      " [0 1 0 0 0 0]\n",
      " [0 1 0 0 0 0]\n",
      " [0 1 0 0 0 0]\n",
      " [0 1 0 0 0 0]\n",
      " [0 1 0 0 0 0]\n",
      " [0 1 0 0 0 0]\n",
      " [0 1 0 0 0 0]\n",
      " [0 1 0 0 0 0]\n",
      " [0 1 0 0 0 0]\n",
      " [0 1 0 0 0 0]\n",
      " [0 1 0 0 0 0]\n",
      " [0 0 1 0 0 0]\n",
      " [0 0 1 0 0 0]\n",
      " [0 0 1 0 0 0]\n",
      " [0 0 1 0 0 0]\n",
      " [0 0 1 0 0 0]\n",
      " [0 0 1 0 0 0]\n",
      " [0 0 1 0 0 0]\n",
      " [0 0 1 0 0 0]\n",
      " [0 0 1 0 0 0]\n",
      " [0 0 1 0 0 0]\n",
      " [0 0 1 0 0 0]\n",
      " [0 0 1 0 0 0]\n",
      " [0 0 1 0 0 0]\n",
      " [0 0 1 0 0 0]\n",
      " [0 0 1 0 0 0]\n",
      " [0 0 1 0 0 0]\n",
      " [0 0 1 0 0 0]\n",
      " [0 0 1 0 0 0]\n",
      " [0 0 1 0 0 0]\n",
      " [0 0 1 0 0 0]\n",
      " [0 0 1 0 0 0]\n",
      " [0 0 1 0 0 0]\n",
      " [0 0 1 0 0 0]\n",
      " [0 0 1 0 0 0]\n",
      " [0 0 1 0 0 0]\n",
      " [0 0 1 0 0 0]\n",
      " [0 0 1 0 0 0]\n",
      " [0 0 1 0 0 0]\n",
      " [0 0 1 0 0 0]\n",
      " [0 0 1 0 0 0]\n",
      " [0 0 1 0 0 0]\n",
      " [0 0 0 1 0 0]\n",
      " [0 0 0 1 0 0]\n",
      " [0 0 0 1 0 0]\n",
      " [0 0 0 0 1 0]\n",
      " [0 0 0 0 1 0]\n",
      " [0 0 0 0 1 0]\n",
      " [0 0 0 0 1 0]\n",
      " [0 0 0 0 1 0]\n",
      " [0 0 0 0 1 0]\n",
      " [0 0 0 0 1 0]\n",
      " [0 0 0 0 1 0]\n",
      " [0 0 0 0 1 0]\n",
      " [0 0 0 0 1 0]\n",
      " [0 0 0 0 1 0]\n",
      " [0 0 0 0 1 0]\n",
      " [0 0 0 0 1 0]\n",
      " [0 0 0 0 1 0]\n",
      " [0 0 0 0 1 0]\n",
      " [0 0 0 0 1 0]\n",
      " [0 0 0 0 1 0]\n",
      " [0 0 0 0 1 0]\n",
      " [0 0 0 0 1 0]\n",
      " [0 0 0 0 1 0]\n",
      " [0 0 0 0 1 0]\n",
      " [0 0 0 0 1 0]\n",
      " [0 0 0 0 1 0]\n",
      " [0 0 0 0 1 0]\n",
      " [0 0 0 0 1 0]\n",
      " [0 0 0 0 1 0]\n",
      " [0 0 0 0 1 0]\n",
      " [0 0 0 0 1 0]\n",
      " [0 0 0 0 1 0]\n",
      " [0 0 0 0 1 0]\n",
      " [0 0 0 0 1 0]\n",
      " [0 0 0 0 1 0]\n",
      " [0 0 0 0 1 0]\n",
      " [0 0 0 0 1 0]\n",
      " [0 0 0 0 1 0]\n",
      " [0 0 0 0 1 0]\n",
      " [0 0 0 0 1 0]\n",
      " [0 0 0 0 1 0]\n",
      " [0 0 0 0 0 1]\n",
      " [0 0 0 0 0 1]\n",
      " [0 0 0 0 0 1]\n",
      " [0 0 0 0 0 1]\n",
      " [0 0 0 0 0 1]\n",
      " [0 0 0 0 0 1]\n",
      " [0 0 0 0 0 1]\n",
      " [0 0 0 0 0 1]]\n"
     ]
    }
   ],
   "source": [
    "print(image_labels)"
   ]
  },
  {
   "cell_type": "code",
   "execution_count": 9,
   "metadata": {},
   "outputs": [],
   "source": [
    "np_image_list = np.array(image_list, dtype=np.float16) / 225.0"
   ]
  },
  {
   "cell_type": "code",
   "execution_count": 10,
   "metadata": {},
   "outputs": [
    {
     "name": "stdout",
     "output_type": "stream",
     "text": [
      "[INFO] Spliting data to train, test\n"
     ]
    }
   ],
   "source": [
    "print(\"[INFO] Spliting data to train, test\")\n",
    "x_train, x_test, y_train, y_test = train_test_split(np_image_list, image_labels, test_size=0.2, random_state = 42) "
   ]
  },
  {
   "cell_type": "code",
   "execution_count": 11,
   "metadata": {},
   "outputs": [],
   "source": [
    "aug = ImageDataGenerator(\n",
    "    rotation_range=25, width_shift_range=0.1,\n",
    "    height_shift_range=0.1, shear_range=0.2, \n",
    "    zoom_range=0.2,horizontal_flip=True, \n",
    "    fill_mode=\"nearest\")"
   ]
  },
  {
   "cell_type": "code",
   "execution_count": 12,
   "metadata": {},
   "outputs": [],
   "source": [
    "inputShape = (height, width, depth)\n",
    "chanDim = -1\n",
    "if K.image_data_format() == \"channels_first\":\n",
    "    inputShape = (depth, height, width)\n",
    "    chanDim = 1\n",
    "\n",
    "#Create models architecture\n",
    "model = Sequential()\n",
    "\n",
    "#Add the first layer\n",
    "model.add( Conv2D(32, (3,3), activation='relu', input_shape=inputShape))\n",
    "\n",
    "#Add a pooling layer\n",
    "model.add(MaxPooling2D(pool_size=(2,2)))\n",
    "\n",
    "#Add another convolutional layer\n",
    "model.add( Conv2D(32, (3,3), activation='relu'))\n",
    "\n",
    "#Add another pooling layer\n",
    "model.add(MaxPooling2D(pool_size=(2,2)))\n",
    "\n",
    "#Add a flatenning layer\n",
    "model.add(Flatten())\n",
    "\n",
    "#Add a layer with 1000 neurons\n",
    "model.add(Dense(1000, activation='relu'))\n",
    "\n",
    "#Add a dropout layer\n",
    "model.add(Dropout(0.5))\n",
    "\n",
    "#Add a layer with 500 neurons\n",
    "model.add(Dense(500, activation='relu'))\n",
    "\n",
    "#Add a dropout layer\n",
    "model.add(Dropout(0.5))\n",
    "\n",
    "#Add a layer with 250 neurons\n",
    "model.add(Dense(250, activation='relu'))\n",
    "\n",
    "#Add a dropout layer\n",
    "model.add(Dropout(0.5))\n",
    "\n",
    "#Add a layer with 125 neurons\n",
    "model.add(Dense(125, activation='relu'))\n",
    "\n",
    "#Add a layer with 10 neurons\n",
    "model.add(Dense(6, activation='softmax'))"
   ]
  },
  {
   "cell_type": "code",
   "execution_count": 13,
   "metadata": {},
   "outputs": [
    {
     "name": "stdout",
     "output_type": "stream",
     "text": [
      "Model: \"sequential\"\n",
      "_________________________________________________________________\n",
      " Layer (type)                Output Shape              Param #   \n",
      "=================================================================\n",
      " conv2d (Conv2D)             (None, 254, 254, 32)      896       \n",
      "                                                                 \n",
      " max_pooling2d (MaxPooling2D  (None, 127, 127, 32)     0         \n",
      " )                                                               \n",
      "                                                                 \n",
      " conv2d_1 (Conv2D)           (None, 125, 125, 32)      9248      \n",
      "                                                                 \n",
      " max_pooling2d_1 (MaxPooling  (None, 62, 62, 32)       0         \n",
      " 2D)                                                             \n",
      "                                                                 \n",
      " flatten (Flatten)           (None, 123008)            0         \n",
      "                                                                 \n",
      " dense (Dense)               (None, 1000)              123009000 \n",
      "                                                                 \n",
      " dropout (Dropout)           (None, 1000)              0         \n",
      "                                                                 \n",
      " dense_1 (Dense)             (None, 500)               500500    \n",
      "                                                                 \n",
      " dropout_1 (Dropout)         (None, 500)               0         \n",
      "                                                                 \n",
      " dense_2 (Dense)             (None, 250)               125250    \n",
      "                                                                 \n",
      " dropout_2 (Dropout)         (None, 250)               0         \n",
      "                                                                 \n",
      " dense_3 (Dense)             (None, 125)               31375     \n",
      "                                                                 \n",
      " dense_4 (Dense)             (None, 6)                 756       \n",
      "                                                                 \n",
      "=================================================================\n",
      "Total params: 123,677,025\n",
      "Trainable params: 123,677,025\n",
      "Non-trainable params: 0\n",
      "_________________________________________________________________\n"
     ]
    }
   ],
   "source": [
    "model.summary()"
   ]
  },
  {
   "cell_type": "code",
   "execution_count": 14,
   "metadata": {},
   "outputs": [],
   "source": [
    "model.compile(loss = 'categorical_crossentropy',\n",
    "              optimizer = 'adam', metrics = ['accuracy'])"
   ]
  },
  {
   "cell_type": "code",
   "execution_count": 29,
   "metadata": {},
   "outputs": [
    {
     "name": "stdout",
     "output_type": "stream",
     "text": [
      "Epoch 1/20\n",
      "1/1 [==============================] - 5s 5s/step - loss: 1.3267 - accuracy: 0.4091 - val_loss: 1.3580 - val_accuracy: 0.5652\n",
      "Epoch 2/20\n",
      "1/1 [==============================] - 5s 5s/step - loss: 1.3581 - accuracy: 0.5000 - val_loss: 1.3379 - val_accuracy: 0.5652\n",
      "Epoch 3/20\n",
      "1/1 [==============================] - 5s 5s/step - loss: 1.2927 - accuracy: 0.4432 - val_loss: 1.3182 - val_accuracy: 0.5652\n",
      "Epoch 4/20\n",
      "1/1 [==============================] - 5s 5s/step - loss: 1.2703 - accuracy: 0.4545 - val_loss: 1.2977 - val_accuracy: 0.6087\n",
      "Epoch 5/20\n",
      "1/1 [==============================] - 5s 5s/step - loss: 1.1366 - accuracy: 0.5568 - val_loss: 1.2648 - val_accuracy: 0.6522\n",
      "Epoch 6/20\n",
      "1/1 [==============================] - 5s 5s/step - loss: 1.1231 - accuracy: 0.5568 - val_loss: 1.2246 - val_accuracy: 0.6957\n",
      "Epoch 7/20\n",
      "1/1 [==============================] - 5s 5s/step - loss: 1.0740 - accuracy: 0.5909 - val_loss: 1.1792 - val_accuracy: 0.7391\n",
      "Epoch 8/20\n",
      "1/1 [==============================] - 5s 5s/step - loss: 1.2034 - accuracy: 0.5114 - val_loss: 1.1820 - val_accuracy: 0.6087\n",
      "Epoch 9/20\n",
      "1/1 [==============================] - 5s 5s/step - loss: 1.1072 - accuracy: 0.5568 - val_loss: 1.1572 - val_accuracy: 0.6087\n",
      "Epoch 10/20\n",
      "1/1 [==============================] - 5s 5s/step - loss: 1.0424 - accuracy: 0.6477 - val_loss: 1.1249 - val_accuracy: 0.6522\n",
      "Epoch 11/20\n",
      "1/1 [==============================] - 4s 4s/step - loss: 1.0021 - accuracy: 0.6250 - val_loss: 1.0926 - val_accuracy: 0.6957\n",
      "Epoch 12/20\n",
      "1/1 [==============================] - 5s 5s/step - loss: 1.0276 - accuracy: 0.6477 - val_loss: 1.0809 - val_accuracy: 0.7391\n",
      "Epoch 13/20\n",
      "1/1 [==============================] - 5s 5s/step - loss: 0.9419 - accuracy: 0.6932 - val_loss: 1.0658 - val_accuracy: 0.7391\n",
      "Epoch 14/20\n",
      "1/1 [==============================] - 5s 5s/step - loss: 0.9319 - accuracy: 0.6364 - val_loss: 1.0912 - val_accuracy: 0.6522\n",
      "Epoch 15/20\n",
      "1/1 [==============================] - 5s 5s/step - loss: 0.8451 - accuracy: 0.6364 - val_loss: 1.1013 - val_accuracy: 0.6522\n",
      "Epoch 16/20\n",
      "1/1 [==============================] - 5s 5s/step - loss: 0.8352 - accuracy: 0.6932 - val_loss: 1.0229 - val_accuracy: 0.7391\n",
      "Epoch 17/20\n",
      "1/1 [==============================] - 5s 5s/step - loss: 0.8890 - accuracy: 0.6023 - val_loss: 1.0044 - val_accuracy: 0.7391\n",
      "Epoch 18/20\n",
      "1/1 [==============================] - 5s 5s/step - loss: 0.9386 - accuracy: 0.5795 - val_loss: 0.9880 - val_accuracy: 0.7391\n",
      "Epoch 19/20\n",
      "1/1 [==============================] - 5s 5s/step - loss: 0.7922 - accuracy: 0.7045 - val_loss: 0.9939 - val_accuracy: 0.7391\n",
      "Epoch 20/20\n",
      "1/1 [==============================] - 5s 5s/step - loss: 0.7502 - accuracy: 0.7273 - val_loss: 0.9864 - val_accuracy: 0.7391\n"
     ]
    }
   ],
   "source": [
    "history = model.fit(x_train, y_train, batch_size= 256,\n",
    "                 epochs = 20, \n",
    "                 validation_split = 0.2)"
   ]
  },
  {
   "cell_type": "code",
   "execution_count": 30,
   "metadata": {},
   "outputs": [],
   "source": [
    "#from keras.models import load_model"
   ]
  },
  {
   "cell_type": "code",
   "execution_count": 31,
   "metadata": {},
   "outputs": [],
   "source": [
    "#model.save(\"areca_leaves.h5\")"
   ]
  },
  {
   "cell_type": "code",
   "execution_count": 32,
   "metadata": {},
   "outputs": [],
   "source": [
    "#mode = load_model(\"areca_leaves.h5\")"
   ]
  },
  {
   "cell_type": "code",
   "execution_count": 33,
   "metadata": {
    "scrolled": true
   },
   "outputs": [
    {
     "name": "stdout",
     "output_type": "stream",
     "text": [
      "1/1 [==============================] - 0s 445ms/step - loss: 1.0588 - accuracy: 0.6429\n"
     ]
    },
    {
     "data": {
      "text/plain": [
       "0.6428571343421936"
      ]
     },
     "execution_count": 33,
     "metadata": {},
     "output_type": "execute_result"
    }
   ],
   "source": [
    "model.evaluate(x_test, y_test)[1]"
   ]
  },
  {
   "cell_type": "code",
   "execution_count": 34,
   "metadata": {
    "scrolled": true
   },
   "outputs": [
    {
     "data": {
      "text/plain": [
       "'C:\\\\Users\\\\User\\\\Desktop\\\\Detection-of-diseases-in-Arecanut-using-CNN-main\\\\Detection-of-diseases-in-Arecanut-using-CNN-main\\\\Code'"
      ]
     },
     "execution_count": 34,
     "metadata": {},
     "output_type": "execute_result"
    }
   ],
   "source": [
    "pwd"
   ]
  },
  {
   "cell_type": "code",
   "execution_count": 35,
   "metadata": {},
   "outputs": [
    {
     "data": {
      "image/png": "[encoded data removed]",
      "text/plain": [
       "<Figure size 432x288 with 1 Axes>"
      ]
     },
     "metadata": {
      "needs_background": "light"
     },
     "output_type": "display_data"
    }
   ],
   "source": [
    "#Visualize model accuracy\n",
    "plt.plot(history.history['accuracy'])\n",
    "plt.plot(history.history['val_accuracy'])\n",
    "plt.title('Model Accuracy')\n",
    "plt.ylabel('Accuracy')\n",
    "plt.xlabel('Epoch')\n",
    "plt.legend(['Train', 'Val'], loc = 'upper left')\n",
    "plt.show()"
   ]
  },
  {
   "cell_type": "code",
   "execution_count": 36,
   "metadata": {},
   "outputs": [
    {
     "data": {
      "image/png": "[encoded data removed]",
      "text/plain": [
       "<Figure size 432x288 with 1 Axes>"
      ]
     },
     "metadata": {
      "needs_background": "light"
     },
     "output_type": "display_data"
    }
   ],
   "source": [
    "#Visualize model loss\n",
    "plt.plot(history.history['loss'])\n",
    "plt.plot(history.history['val_loss'])\n",
    "plt.title('Model Loss')\n",
    "plt.ylabel('Loss')\n",
    "plt.xlabel('Epoch')\n",
    "plt.legend(['Train', 'Val'], loc = 'upper right')\n",
    "plt.show()"
   ]
  },
  {
   "cell_type": "code",
   "execution_count": 37,
   "metadata": {},
   "outputs": [
    {
     "name": "stdout",
     "output_type": "stream",
     "text": [
      "[INFO] Calculating model accuracy\n",
      "1/1 [==============================] - 0s 439ms/step - loss: 1.0588 - accuracy: 0.6429\n",
      "Test Accuracy: 64.28571343421936\n"
     ]
    }
   ],
   "source": [
    "print(\"[INFO] Calculating model accuracy\")\n",
    "scores = model.evaluate(x_test, y_test)\n",
    "print(f\"Test Accuracy: {scores[1]*100}\")"
   ]
  },
  {
   "cell_type": "code",
   "execution_count": 38,
   "metadata": {},
   "outputs": [],
   "source": [
    "Remedy = ['','','','','','Disease can be controlled by spraying with one per cent Bordeaux mixture or Dithane M 45 @ 3 gram/Liter.']"
   ]
  },
  {
   "cell_type": "code",
   "execution_count": 43,
   "metadata": {},
   "outputs": [],
   "source": [
    "#image_dir=\"C:\\Dataset\\plant_folder\\Healthy_Leaf\\\\Healthy_leaf (2).jpg\"\n",
    "image_dir=\"C:\\Dataset\\plant_folder\\Healthy_Nut\\\\healthy_nut (8).jpg\"\n",
    "#image_dir=\"C:\\Dataset\\plant_folder\\Healthy_Trunk\\\\Healthy (17).jpg\"\n",
    "#image_dir=\"C:\\Dataset\\plant_folder\\Mahali_Koleroga\\\\diseases_nut (1).jpg\"\n",
    "#image_dir=\"C:\\Dataset\\plant_folder\\Stem_bleeding\\\\diseased (3).jpg\"\n",
    "#image_dir=\"C:\\Dataset\\plant_folder\\yellow_leaf spot_disease\\\\yellow_leaf_spot (11).jpeg\"\n",
    "#image_dir = \"C://Users//hp//Downloads//Ayurvedic+Healing_Betel+leaf+versus+tobacco.jpg\"\n",
    "im=convert_image_to_array(image_dir)\n",
    "np_image_li = np.array(im, dtype=np.float16) / 225.0\n",
    "npp_image = np.expand_dims(np_image_li, axis=0)"
   ]
  },
  {
   "cell_type": "code",
   "execution_count": 45,
   "metadata": {},
   "outputs": [],
   "source": [
    "#pavan\n",
    "#img=img.resize(50,50)\n",
    "img=cv2.imread(image_dir)\n",
    "gray=cv2.cvtColor(img,cv2.COLOR_BGR2GRAY)\n",
    "kerne2=np.ones((5,5),np.uint8)\n",
    "ret,binary=cv2.threshold(img,160,255,cv2.THRESH_BINARY)\n",
    "icanny=cv2.Canny(img,130,130)\n",
    "erosion=cv2.erode(img,kerne2,iterations=1)\n",
    "dialation=cv2.dilate(icanny,kerne2,iterations=1)\n",
    "edges=cv2.Canny(dialation,100,200)"
   ]
  },
  {
   "cell_type": "code",
   "execution_count": 46,
   "metadata": {
    "scrolled": true
   },
   "outputs": [
    {
     "name": "stdout",
     "output_type": "stream",
     "text": [
      "1/1 [==============================] - 0s 72ms/step\n",
      "[[1.0427794e-05 9.9996579e-01 1.0482834e-05 1.3760312e-06 1.1505183e-05\n",
      "  4.2479493e-07]]\n"
     ]
    }
   ],
   "source": [
    "result=model.predict(npp_image)\n",
    "print(result)"
   ]
  },
  {
   "cell_type": "code",
   "execution_count": 1,
   "metadata": {},
   "outputs": [
    {
     "ename": "NameError",
     "evalue": "name 'np' is not defined",
     "output_type": "error",
     "traceback": [
      "\u001b[1;31m---------------------------------------------------------------------------\u001b[0m",
      "\u001b[1;31mNameError\u001b[0m                                 Traceback (most recent call last)",
      "Input \u001b[1;32mIn [1]\u001b[0m, in \u001b[0;36m<cell line: 7>\u001b[1;34m()\u001b[0m\n\u001b[0;32m      5\u001b[0m root\u001b[38;5;241m.\u001b[39mgeometry(\u001b[38;5;124m\"\u001b[39m\u001b[38;5;124m500x300\u001b[39m\u001b[38;5;124m\"\u001b[39m)\n\u001b[0;32m      6\u001b[0m \u001b[38;5;66;03m#result=model.predict(npp_image)\u001b[39;00m\n\u001b[1;32m----> 7\u001b[0m itemindex \u001b[38;5;241m=\u001b[39m \u001b[43mnp\u001b[49m\u001b[38;5;241m.\u001b[39mwhere(result\u001b[38;5;241m==\u001b[39mnp\u001b[38;5;241m.\u001b[39mmax(result))\n\u001b[0;32m      8\u001b[0m \u001b[38;5;28;01mdef\u001b[39;00m \u001b[38;5;21mgetvalu\u001b[39m():\n\u001b[0;32m      9\u001b[0m     \u001b[38;5;28;01mfor\u001b[39;00m i \u001b[38;5;129;01min\u001b[39;00m \u001b[38;5;28mrange\u001b[39m(\u001b[38;5;28mlen\u001b[39m(result[\u001b[38;5;241m0\u001b[39m])):\n",
      "\u001b[1;31mNameError\u001b[0m: name 'np' is not defined"
     ]
    }
   ],
   "source": [
    "import tkinter \n",
    "from tkinter import *\n",
    "root=Tk()\n",
    "root.title(\"Arecanut desease detection\")\n",
    "root.geometry(\"500x300\")\n",
    "#result=model.predict(npp_image)\n",
    "itemindex = np.where(result==np.max(result))\n",
    "def getvalu():\n",
    "    for i in range(len(result[0])):\n",
    "        re=label_binarizer.classes_[i]+\" \"+str(round(result[0][i]*100,2))+ \" %\" \n",
    "        print(re)\n",
    "    if itemindex[1][0]>2:\n",
    "        re=\"\\nRemedy for the \"+ label_binarizer.classes_[itemindex[1][0]]+\" :\\n\",Remedy[itemindex[1][0]]\n",
    "        print(re)\n",
    "def show():\n",
    "    for i in range(len(result[0])):\n",
    "        re=label_binarizer.classes_[i]+\" \"+str(round(result[0][i]*100,2))+ \" %\" \n",
    "        print(re)\n",
    "    if itemindex[1][0]>2:\n",
    "        re=\"\\nRemedy for the \"+ label_binarizer.classes_[itemindex[1][0]]+\" :\\n\",Remedy[itemindex[1][0]]\n",
    "        print(re)\n",
    "    cv2.imshow('input image',img)\n",
    "    #cv2.imshow('binary image',binary)\n",
    "    #cv2.imshow('gray image',gray)\n",
    "    cv2.imshow('canny image',icanny)\n",
    "    #cv2.imshow('erosion image',erosion)\n",
    "    #cv2.imshow('dilation image',dialation)\n",
    "    #cv2.imshow('edge images',edges)\n",
    "    cv2.imshow('output image',im)\n",
    "    \n",
    "def cancle():\n",
    "    root.destroy()\n",
    "Button(text=\"Show Output\",command=getvalu).place(x=10, y=10)\n",
    "#Label(root, text=re, fg='white', bg='black',font=\"ar 15 bold\").place(x=90, y=200)\n",
    "Button(text=\"output with image\",command=show).place(x=110, y=10)\n",
    "Button(text=\"Cancle\",command=cancle).place(x=250, y=10)\n",
    "\n",
    "root.mainloop()"
   ]
  },
  {
   "cell_type": "code",
   "execution_count": null,
   "metadata": {},
   "outputs": [],
   "source": []
  }
 ],
 "metadata": {
  "kernelspec": {
   "display_name": "Python 3 (ipykernel)",
   "language": "python",
   "name": "python3"
  },
  "language_info": {
   "codemirror_mode": {
    "name": "ipython",
    "version": 3
   },
   "file_extension": ".py",
   "mimetype": "text/x-python",
   "name": "python",
   "nbconvert_exporter": "python",
   "pygments_lexer": "ipython3",
   "version": "3.9.12"
  }
 },
 "nbformat": 4,
 "nbformat_minor": 4
}

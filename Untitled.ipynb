{
 "cells": [
  {
   "cell_type": "code",
   "execution_count": 1,
   "id": "f0096c96",
   "metadata": {},
   "outputs": [],
   "source": [
    "# Import required libraries\n",
    "from tkinter import *\n",
    "from PIL import ImageTk, Image\n",
    "\n",
    "# Create an instance of tkinter window\n",
    "win = Tk()\n",
    "\n",
    "# Define the geometry of the window\n",
    "win.geometry(\"600x450\")\n",
    "\n",
    "frame = Frame(win, width=600, height=450)\n",
    "frame.pack()\n",
    "frame.place(anchor='center', relx=1.5, rely=0.5)\n",
    "\n",
    "# Create an object of tkinter ImageTk\n",
    "img = ImageTk.PhotoImage(Image.open(\"pavann.jpg\"))\n",
    "\n",
    "# Create a Label Widget to display the text or Image\n",
    "label = Label(image=img)\n",
    "label.image =img \n",
    "\n",
    "win.mainloop()"
   ]
  },
  {
   "cell_type": "code",
   "execution_count": null,
   "id": "89f62f94",
   "metadata": {},
   "outputs": [],
   "source": [
    "import tkinter \n",
    "from tkinter import *\n",
    "root=Tk()\n",
    "root.title(\"Arecanut desease detection\")\n",
    "root.geometry(\"500x300\")\n",
    "#result=model.predict(npp_image)\n",
    "itemindex = np.where(result==np.max(result))\n",
    "def getvalu():\n",
    "    for i in range(len(result[0])):\n",
    "        re=label_binarizer.classes_[i]+\" \"+str(round(result[0][i]*100,2))+ \" %\" \n",
    "        print(re)\n",
    "    if itemindex[1][0]>2:\n",
    "        re=\"Treatment for the \"+ label_binarizer.classes_[itemindex[1][0]]+\" : \"+Remed[itemindex[1][0]]\n",
    "        print(\"\\n\",re)\n",
    "def show():\n",
    "    for i in range(len(result[0])):\n",
    "        re=label_binarizer.classes_[i]+\" \"+str(round(result[0][i]*100,2))+ \" %\" \n",
    "        print(re)\n",
    "    if itemindex[1][0]>2:\n",
    "        re=\"Treatment for the \"+ label_binarizer.classes_[itemindex[1][0]]+\" : \"+Remed[itemindex[1][0]]\n",
    "        print(\"\\n\",re)\n",
    "    cv2.imshow('input image',img)\n",
    "    #cv2.imshow('binary image',binary)\n",
    "    #cv2.imshow('gray image',gray)\n",
    "    cv2.imshow('Disease Spot detection image',icanny)\n",
    "    #cv2.imshow('erosion image',erosion)\n",
    "    #cv2.imshow('dilation image',dialation)\n",
    "    #cv2.imshow('edge images',edges)\n",
    "    cv2.imshow('output image',im)\n",
    "    \n",
    "def cancle():\n",
    "    root.destroy()\n",
    "Button(text=\"Show Output\",command=getvalu).place(x=10, y=10)\n",
    "#Label(root, text=re, fg='white', bg='black',font=\"ar 15 bold\").place(x=90, y=200)\n",
    "Button(text=\"output with image\",command=show).place(x=110, y=10)\n",
    "Button(text=\"Cancle\",command=cancle).place(x=250, y=10)\n",
    "\n",
    "root.mainloop()"
   ]
  }
 ],
 "metadata": {
  "kernelspec": {
   "display_name": "Python 3 (ipykernel)",
   "language": "python",
   "name": "python3"
  },
  "language_info": {
   "codemirror_mode": {
    "name": "ipython",
    "version": 3
   },
   "file_extension": ".py",
   "mimetype": "text/x-python",
   "name": "python",
   "nbconvert_exporter": "python",
   "pygments_lexer": "ipython3",
   "version": "3.9.12"
  }
 },
 "nbformat": 4,
 "nbformat_minor": 5
}
